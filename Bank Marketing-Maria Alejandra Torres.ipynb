{
 "cells": [
  {
   "cell_type": "markdown",
   "metadata": {},
   "source": [
    "# BANK MARKETING: TERM DEPOSIT\n",
    "\n",
    "\n",
    "**Maria Alejandra Torres Valencia**  \n",
    "maatorresva@unal.edu.co   \n",
    "Universidad Nacional de Colombia, Sede Medellín  \n",
    "Facultad de Minas  \n",
    "Medellín, Colombia\n",
    "\n",
    "**Origen de los datos utilizados**\n",
    "https://archive.ics.uci.edu/ml/datasets/Bank+Marketing#"
   ]
  },
  {
   "cell_type": "markdown",
   "metadata": {},
   "source": [
    "DEFINICIÓN DEL PROBLEMA REAL\n",
    "--\n",
    "\n",
    "El propósito desde el punto de vista del negocio es poder predecir si un cliente va a adquirir o suscribirse a un depósito a término (CDT), a partir de la información obtenida del proceso de marketing directo realizado por el banco."
   ]
  },
  {
   "cell_type": "markdown",
   "metadata": {},
   "source": [
    "DEFINICIÓN DEL PROBLEMA EN TÉRMINOS DE LOS DATOS\n",
    "--\n",
    "Los datos utilizados para la realización de este trabajo están relacionados con las campañas de marketing realizadas por un banco portugués (llamadas telefónicas).\n",
    "Se tiene una muestra de 41188 observaciones donde cada una tiene 20 variables (input variables) y una variable de respuesta (target):\n",
    "1. age: edad de la persona contactada\n",
    "2. job: tipo de empleo de la persona contactada\n",
    "3. marital: estado civil de la persona contactada\n",
    "4. education: Nivel de educación alcanzado\n",
    "5. default: Responde a la pregunta ¿tiene crédito en deuda?\n",
    "6. housing: Responde a la pregunta ¿tiene préstamo de vivienda?\n",
    "7. loan: Responde a la pregunta ¿tiene préstamo personal?\n",
    "8. contact: Tipo de medio de contacto\n",
    "9. month: mes del último contacto\n",
    "10. day_of_week: día de la semana del último contacto\n",
    "11. duration: duración del último contacto en segundos\n",
    "12. campaign: número de contactos realizados durante esta campaña y para este cliente\n",
    "13. pdays: número de días que pasaron desde que el cliente fue contactado por última vez en una campaña anterior\n",
    "14. previous: número de contactos realizados a este cliente antes de esta campaña\n",
    "15. poutcome: resultado de la campaña de marketing anterior\n",
    "16. emp.var.rate: tasa de variación del empleo (trimestral)\n",
    "17. cons.price.idx: indice de precios al consumidor (mensual)\n",
    "18. cons.conf.idx: indice de confianza del consumidor (mensual)\n",
    "19. euribor3m: tasa euribor (tipo europeo de oferta interbancaria - tipo de interés promedio) diario\n",
    "20. nr.employed: número de empleados (mensual)\n",
    "\n",
    "Variable respuesta:\n",
    "21. y: responde a la pregunta ¿se ha suscrito el cliente a un depósito a término?\n",
    "\n",
    "En términos de los datos se desea predecir si el cliente se suscribirá a un depósito a término (si o no) con base en las 20 variables dadas."
   ]
  },
  {
   "cell_type": "markdown",
   "metadata": {},
   "source": [
    "METODOLOGÍAS A UTILIZAR \n",
    "--\n",
    "Para el análisis predictivo de este problema se utilizarán las siguientes metodologías:\n",
    "\n",
    "__1.C50__\n",
    "\n",
    "__2. Naive Bayes__\n",
    "\n",
    "__3.OneR__\n",
    "\n",
    "__5.Random Forest__"
   ]
  },
  {
   "cell_type": "markdown",
   "metadata": {},
   "source": [
    "ANÁLISIS INICIAL DE LOS DATOS\n",
    "--"
   ]
  },
  {
   "cell_type": "code",
   "execution_count": 1,
   "metadata": {},
   "outputs": [
    {
     "name": "stderr",
     "output_type": "stream",
     "text": [
      "\n",
      "Attaching package: 'dplyr'\n",
      "\n",
      "The following objects are masked from 'package:data.table':\n",
      "\n",
      "    between, first, last\n",
      "\n",
      "The following objects are masked from 'package:stats':\n",
      "\n",
      "    filter, lag\n",
      "\n",
      "The following objects are masked from 'package:base':\n",
      "\n",
      "    intersect, setdiff, setequal, union\n",
      "\n",
      "\n",
      "Attaching package: 'lubridate'\n",
      "\n",
      "The following objects are masked from 'package:data.table':\n",
      "\n",
      "    hour, isoweek, mday, minute, month, quarter, second, wday, week,\n",
      "    yday, year\n",
      "\n",
      "The following object is masked from 'package:base':\n",
      "\n",
      "    date\n",
      "\n",
      "Loading required package: ggplot2\n",
      "Warning message:\n",
      "\"package 'ggplot2' was built under R version 3.4.4\"\n",
      "Attaching package: 'plotly'\n",
      "\n",
      "The following object is masked from 'package:ggplot2':\n",
      "\n",
      "    last_plot\n",
      "\n",
      "The following object is masked from 'package:stats':\n",
      "\n",
      "    filter\n",
      "\n",
      "The following object is masked from 'package:graphics':\n",
      "\n",
      "    layout\n",
      "\n",
      "Warning message:\n",
      "\"package 'gridExtra' was built under R version 3.4.4\"\n",
      "Attaching package: 'gridExtra'\n",
      "\n",
      "The following object is masked from 'package:dplyr':\n",
      "\n",
      "    combine\n",
      "\n",
      "Warning message:\n",
      "\"package 'ggcorrplot' was built under R version 3.4.4\"Warning message:\n",
      "\"package 'C50' was built under R version 3.4.4\"Warning message:\n",
      "\"package 'randomForest' was built under R version 3.4.4\"randomForest 4.6-14\n",
      "Type rfNews() to see new features/changes/bug fixes.\n",
      "\n",
      "Attaching package: 'randomForest'\n",
      "\n",
      "The following object is masked from 'package:gridExtra':\n",
      "\n",
      "    combine\n",
      "\n",
      "The following object is masked from 'package:ggplot2':\n",
      "\n",
      "    margin\n",
      "\n",
      "The following object is masked from 'package:dplyr':\n",
      "\n",
      "    combine\n",
      "\n",
      "Loading required package: lpSolve\n",
      "Warning message:\n",
      "\"package 'mlbench' was built under R version 3.4.4\"Warning message:\n",
      "\"package 'Metrics' was built under R version 3.4.4\""
     ]
    }
   ],
   "source": [
    "## se importan las librerias necesarias\n",
    "library(data.table)\n",
    "library(dplyr)\n",
    "library(lubridate)\n",
    "library(plotly)\n",
    "library(ggplot2)\n",
    "library(gridExtra)\n",
    "library(ggcorrplot)\n",
    "library(C50)\n",
    "library(gmodels)\n",
    "library(lattice)\n",
    "library(caret)\n",
    "library(e1071)\n",
    "library(OneR)\n",
    "library(class)\n",
    "library(randomForest)\n",
    "library(irr)\n",
    "library(mlbench)\n",
    "library(Metrics)"
   ]
  },
  {
   "cell_type": "code",
   "execution_count": 2,
   "metadata": {},
   "outputs": [
    {
     "name": "stdout",
     "output_type": "stream",
     "text": [
      "'data.frame':\t41188 obs. of  21 variables:\n",
      " $ age           : int  56 57 37 40 56 45 59 41 24 25 ...\n",
      " $ job           : Factor w/ 12 levels \"admin.\",\"blue-collar\",..: 4 8 8 1 8 8 1 2 10 8 ...\n",
      " $ marital       : Factor w/ 4 levels \"divorced\",\"married\",..: 2 2 2 2 2 2 2 2 3 3 ...\n",
      " $ education     : Factor w/ 8 levels \"basic.4y\",\"basic.6y\",..: 1 4 4 2 4 3 6 8 6 4 ...\n",
      " $ default       : Factor w/ 3 levels \"no\",\"unknown\",..: 1 2 1 1 1 2 1 2 1 1 ...\n",
      " $ housing       : Factor w/ 3 levels \"no\",\"unknown\",..: 1 1 3 1 1 1 1 1 3 3 ...\n",
      " $ loan          : Factor w/ 3 levels \"no\",\"unknown\",..: 1 1 1 1 3 1 1 1 1 1 ...\n",
      " $ contact       : Factor w/ 2 levels \"cellular\",\"telephone\": 2 2 2 2 2 2 2 2 2 2 ...\n",
      " $ month         : Factor w/ 10 levels \"apr\",\"aug\",\"dec\",..: 7 7 7 7 7 7 7 7 7 7 ...\n",
      " $ day_of_week   : Factor w/ 5 levels \"fri\",\"mon\",\"thu\",..: 2 2 2 2 2 2 2 2 2 2 ...\n",
      " $ duration      : int  261 149 226 151 307 198 139 217 380 50 ...\n",
      " $ campaign      : int  1 1 1 1 1 1 1 1 1 1 ...\n",
      " $ pdays         : int  999 999 999 999 999 999 999 999 999 999 ...\n",
      " $ previous      : int  0 0 0 0 0 0 0 0 0 0 ...\n",
      " $ poutcome      : Factor w/ 3 levels \"failure\",\"nonexistent\",..: 2 2 2 2 2 2 2 2 2 2 ...\n",
      " $ emp.var.rate  : num  1.1 1.1 1.1 1.1 1.1 1.1 1.1 1.1 1.1 1.1 ...\n",
      " $ cons.price.idx: num  94 94 94 94 94 ...\n",
      " $ cons.conf.idx : num  -36.4 -36.4 -36.4 -36.4 -36.4 -36.4 -36.4 -36.4 -36.4 -36.4 ...\n",
      " $ euribor3m     : num  4.86 4.86 4.86 4.86 4.86 ...\n",
      " $ nr.employed   : num  5191 5191 5191 5191 5191 ...\n",
      " $ y             : Factor w/ 2 levels \"no\",\"yes\": 1 1 1 1 1 1 1 1 1 1 ...\n"
     ]
    }
   ],
   "source": [
    "## SE LEEN LOS DATOS\n",
    "bank <- read.csv('bank-additional-full.csv', header = TRUE, sep=\";\")\n",
    "## se verifican los datos cargados\n",
    "str(bank)\n"
   ]
  },
  {
   "cell_type": "code",
   "execution_count": 3,
   "metadata": {},
   "outputs": [
    {
     "data": {
      "text/html": [
       "<table>\n",
       "<thead><tr><th scope=col>age</th><th scope=col>job</th><th scope=col>marital</th><th scope=col>education</th><th scope=col>default</th><th scope=col>housing</th><th scope=col>loan</th><th scope=col>contact</th><th scope=col>month</th><th scope=col>day_of_week</th><th scope=col>...</th><th scope=col>campaign</th><th scope=col>pdays</th><th scope=col>previous</th><th scope=col>poutcome</th><th scope=col>emp.var.rate</th><th scope=col>cons.price.idx</th><th scope=col>cons.conf.idx</th><th scope=col>euribor3m</th><th scope=col>nr.employed</th><th scope=col>y</th></tr></thead>\n",
       "<tbody>\n",
       "\t<tr><td>56         </td><td>housemaid  </td><td>married    </td><td>basic.4y   </td><td>no         </td><td>no         </td><td>no         </td><td>telephone  </td><td>may        </td><td>mon        </td><td>...        </td><td>1          </td><td>999        </td><td>0          </td><td>nonexistent</td><td>1.1        </td><td>93.994     </td><td>-36.4      </td><td>4.857      </td><td>5191       </td><td>no         </td></tr>\n",
       "\t<tr><td>57         </td><td>services   </td><td>married    </td><td>high.school</td><td>unknown    </td><td>no         </td><td>no         </td><td>telephone  </td><td>may        </td><td>mon        </td><td>...        </td><td>1          </td><td>999        </td><td>0          </td><td>nonexistent</td><td>1.1        </td><td>93.994     </td><td>-36.4      </td><td>4.857      </td><td>5191       </td><td>no         </td></tr>\n",
       "\t<tr><td>37         </td><td>services   </td><td>married    </td><td>high.school</td><td>no         </td><td>yes        </td><td>no         </td><td>telephone  </td><td>may        </td><td>mon        </td><td>...        </td><td>1          </td><td>999        </td><td>0          </td><td>nonexistent</td><td>1.1        </td><td>93.994     </td><td>-36.4      </td><td>4.857      </td><td>5191       </td><td>no         </td></tr>\n",
       "\t<tr><td>40         </td><td>admin.     </td><td>married    </td><td>basic.6y   </td><td>no         </td><td>no         </td><td>no         </td><td>telephone  </td><td>may        </td><td>mon        </td><td>...        </td><td>1          </td><td>999        </td><td>0          </td><td>nonexistent</td><td>1.1        </td><td>93.994     </td><td>-36.4      </td><td>4.857      </td><td>5191       </td><td>no         </td></tr>\n",
       "\t<tr><td>56         </td><td>services   </td><td>married    </td><td>high.school</td><td>no         </td><td>no         </td><td>yes        </td><td>telephone  </td><td>may        </td><td>mon        </td><td>...        </td><td>1          </td><td>999        </td><td>0          </td><td>nonexistent</td><td>1.1        </td><td>93.994     </td><td>-36.4      </td><td>4.857      </td><td>5191       </td><td>no         </td></tr>\n",
       "\t<tr><td>45         </td><td>services   </td><td>married    </td><td>basic.9y   </td><td>unknown    </td><td>no         </td><td>no         </td><td>telephone  </td><td>may        </td><td>mon        </td><td>...        </td><td>1          </td><td>999        </td><td>0          </td><td>nonexistent</td><td>1.1        </td><td>93.994     </td><td>-36.4      </td><td>4.857      </td><td>5191       </td><td>no         </td></tr>\n",
       "</tbody>\n",
       "</table>\n"
      ],
      "text/latex": [
       "\\begin{tabular}{r|lllllllllllllllllllll}\n",
       " age & job & marital & education & default & housing & loan & contact & month & day\\_of\\_week & ... & campaign & pdays & previous & poutcome & emp.var.rate & cons.price.idx & cons.conf.idx & euribor3m & nr.employed & y\\\\\n",
       "\\hline\n",
       "\t 56          & housemaid   & married     & basic.4y    & no          & no          & no          & telephone   & may         & mon         & ...         & 1           & 999         & 0           & nonexistent & 1.1         & 93.994      & -36.4       & 4.857       & 5191        & no         \\\\\n",
       "\t 57          & services    & married     & high.school & unknown     & no          & no          & telephone   & may         & mon         & ...         & 1           & 999         & 0           & nonexistent & 1.1         & 93.994      & -36.4       & 4.857       & 5191        & no         \\\\\n",
       "\t 37          & services    & married     & high.school & no          & yes         & no          & telephone   & may         & mon         & ...         & 1           & 999         & 0           & nonexistent & 1.1         & 93.994      & -36.4       & 4.857       & 5191        & no         \\\\\n",
       "\t 40          & admin.      & married     & basic.6y    & no          & no          & no          & telephone   & may         & mon         & ...         & 1           & 999         & 0           & nonexistent & 1.1         & 93.994      & -36.4       & 4.857       & 5191        & no         \\\\\n",
       "\t 56          & services    & married     & high.school & no          & no          & yes         & telephone   & may         & mon         & ...         & 1           & 999         & 0           & nonexistent & 1.1         & 93.994      & -36.4       & 4.857       & 5191        & no         \\\\\n",
       "\t 45          & services    & married     & basic.9y    & unknown     & no          & no          & telephone   & may         & mon         & ...         & 1           & 999         & 0           & nonexistent & 1.1         & 93.994      & -36.4       & 4.857       & 5191        & no         \\\\\n",
       "\\end{tabular}\n"
      ],
      "text/markdown": [
       "\n",
       "age | job | marital | education | default | housing | loan | contact | month | day_of_week | ... | campaign | pdays | previous | poutcome | emp.var.rate | cons.price.idx | cons.conf.idx | euribor3m | nr.employed | y | \n",
       "|---|---|---|---|---|---|\n",
       "| 56          | housemaid   | married     | basic.4y    | no          | no          | no          | telephone   | may         | mon         | ...         | 1           | 999         | 0           | nonexistent | 1.1         | 93.994      | -36.4       | 4.857       | 5191        | no          | \n",
       "| 57          | services    | married     | high.school | unknown     | no          | no          | telephone   | may         | mon         | ...         | 1           | 999         | 0           | nonexistent | 1.1         | 93.994      | -36.4       | 4.857       | 5191        | no          | \n",
       "| 37          | services    | married     | high.school | no          | yes         | no          | telephone   | may         | mon         | ...         | 1           | 999         | 0           | nonexistent | 1.1         | 93.994      | -36.4       | 4.857       | 5191        | no          | \n",
       "| 40          | admin.      | married     | basic.6y    | no          | no          | no          | telephone   | may         | mon         | ...         | 1           | 999         | 0           | nonexistent | 1.1         | 93.994      | -36.4       | 4.857       | 5191        | no          | \n",
       "| 56          | services    | married     | high.school | no          | no          | yes         | telephone   | may         | mon         | ...         | 1           | 999         | 0           | nonexistent | 1.1         | 93.994      | -36.4       | 4.857       | 5191        | no          | \n",
       "| 45          | services    | married     | basic.9y    | unknown     | no          | no          | telephone   | may         | mon         | ...         | 1           | 999         | 0           | nonexistent | 1.1         | 93.994      | -36.4       | 4.857       | 5191        | no          | \n",
       "\n",
       "\n"
      ],
      "text/plain": [
       "  age job       marital education   default housing loan contact   month\n",
       "1 56  housemaid married basic.4y    no      no      no   telephone may  \n",
       "2 57  services  married high.school unknown no      no   telephone may  \n",
       "3 37  services  married high.school no      yes     no   telephone may  \n",
       "4 40  admin.    married basic.6y    no      no      no   telephone may  \n",
       "5 56  services  married high.school no      no      yes  telephone may  \n",
       "6 45  services  married basic.9y    unknown no      no   telephone may  \n",
       "  day_of_week ... campaign pdays previous poutcome    emp.var.rate\n",
       "1 mon         ... 1        999   0        nonexistent 1.1         \n",
       "2 mon         ... 1        999   0        nonexistent 1.1         \n",
       "3 mon         ... 1        999   0        nonexistent 1.1         \n",
       "4 mon         ... 1        999   0        nonexistent 1.1         \n",
       "5 mon         ... 1        999   0        nonexistent 1.1         \n",
       "6 mon         ... 1        999   0        nonexistent 1.1         \n",
       "  cons.price.idx cons.conf.idx euribor3m nr.employed y \n",
       "1 93.994         -36.4         4.857     5191        no\n",
       "2 93.994         -36.4         4.857     5191        no\n",
       "3 93.994         -36.4         4.857     5191        no\n",
       "4 93.994         -36.4         4.857     5191        no\n",
       "5 93.994         -36.4         4.857     5191        no\n",
       "6 93.994         -36.4         4.857     5191        no"
      ]
     },
     "metadata": {},
     "output_type": "display_data"
    }
   ],
   "source": [
    "head(bank)"
   ]
  },
  {
   "cell_type": "code",
   "execution_count": 4,
   "metadata": {},
   "outputs": [
    {
     "data": {
      "text/html": [
       "<dl class=dl-horizontal>\n",
       "\t<dt>age</dt>\n",
       "\t\t<dd>0</dd>\n",
       "\t<dt>job</dt>\n",
       "\t\t<dd>0</dd>\n",
       "\t<dt>marital</dt>\n",
       "\t\t<dd>0</dd>\n",
       "\t<dt>education</dt>\n",
       "\t\t<dd>0</dd>\n",
       "\t<dt>default</dt>\n",
       "\t\t<dd>0</dd>\n",
       "\t<dt>housing</dt>\n",
       "\t\t<dd>0</dd>\n",
       "\t<dt>loan</dt>\n",
       "\t\t<dd>0</dd>\n",
       "\t<dt>contact</dt>\n",
       "\t\t<dd>0</dd>\n",
       "\t<dt>month</dt>\n",
       "\t\t<dd>0</dd>\n",
       "\t<dt>day_of_week</dt>\n",
       "\t\t<dd>0</dd>\n",
       "\t<dt>duration</dt>\n",
       "\t\t<dd>0</dd>\n",
       "\t<dt>campaign</dt>\n",
       "\t\t<dd>0</dd>\n",
       "\t<dt>pdays</dt>\n",
       "\t\t<dd>0</dd>\n",
       "\t<dt>previous</dt>\n",
       "\t\t<dd>0</dd>\n",
       "\t<dt>poutcome</dt>\n",
       "\t\t<dd>0</dd>\n",
       "\t<dt>emp.var.rate</dt>\n",
       "\t\t<dd>0</dd>\n",
       "\t<dt>cons.price.idx</dt>\n",
       "\t\t<dd>0</dd>\n",
       "\t<dt>cons.conf.idx</dt>\n",
       "\t\t<dd>0</dd>\n",
       "\t<dt>euribor3m</dt>\n",
       "\t\t<dd>0</dd>\n",
       "\t<dt>nr.employed</dt>\n",
       "\t\t<dd>0</dd>\n",
       "\t<dt>y</dt>\n",
       "\t\t<dd>0</dd>\n",
       "</dl>\n"
      ],
      "text/latex": [
       "\\begin{description*}\n",
       "\\item[age] 0\n",
       "\\item[job] 0\n",
       "\\item[marital] 0\n",
       "\\item[education] 0\n",
       "\\item[default] 0\n",
       "\\item[housing] 0\n",
       "\\item[loan] 0\n",
       "\\item[contact] 0\n",
       "\\item[month] 0\n",
       "\\item[day\\textbackslash{}\\_of\\textbackslash{}\\_week] 0\n",
       "\\item[duration] 0\n",
       "\\item[campaign] 0\n",
       "\\item[pdays] 0\n",
       "\\item[previous] 0\n",
       "\\item[poutcome] 0\n",
       "\\item[emp.var.rate] 0\n",
       "\\item[cons.price.idx] 0\n",
       "\\item[cons.conf.idx] 0\n",
       "\\item[euribor3m] 0\n",
       "\\item[nr.employed] 0\n",
       "\\item[y] 0\n",
       "\\end{description*}\n"
      ],
      "text/markdown": [
       "age\n",
       ":   0job\n",
       ":   0marital\n",
       ":   0education\n",
       ":   0default\n",
       ":   0housing\n",
       ":   0loan\n",
       ":   0contact\n",
       ":   0month\n",
       ":   0day_of_week\n",
       ":   0duration\n",
       ":   0campaign\n",
       ":   0pdays\n",
       ":   0previous\n",
       ":   0poutcome\n",
       ":   0emp.var.rate\n",
       ":   0cons.price.idx\n",
       ":   0cons.conf.idx\n",
       ":   0euribor3m\n",
       ":   0nr.employed\n",
       ":   0y\n",
       ":   0\n",
       "\n"
      ],
      "text/plain": [
       "           age            job        marital      education        default \n",
       "             0              0              0              0              0 \n",
       "       housing           loan        contact          month    day_of_week \n",
       "             0              0              0              0              0 \n",
       "      duration       campaign          pdays       previous       poutcome \n",
       "             0              0              0              0              0 \n",
       "  emp.var.rate cons.price.idx  cons.conf.idx      euribor3m    nr.employed \n",
       "             0              0              0              0              0 \n",
       "             y \n",
       "             0 "
      ]
     },
     "metadata": {},
     "output_type": "display_data"
    }
   ],
   "source": [
    "## se verifica si hay datos nulos\n",
    "#any(is.na(bank))\n",
    "sapply(bank, function(x) sum(is.na(x)))"
   ]
  },
  {
   "cell_type": "code",
   "execution_count": 5,
   "metadata": {
    "scrolled": true
   },
   "outputs": [
    {
     "data": {
      "text/html": [
       "<table>\n",
       "<thead><tr><th scope=col>age</th><th scope=col>job</th><th scope=col>marital</th><th scope=col>education</th><th scope=col>default</th><th scope=col>housing</th><th scope=col>loan</th><th scope=col>contact</th><th scope=col>month</th><th scope=col>day_of_week</th><th scope=col>duration</th><th scope=col>campaign</th><th scope=col>pdays</th><th scope=col>previous</th><th scope=col>poutcome</th><th scope=col>emp.var.rate</th><th scope=col>cons.price.idx</th><th scope=col>cons.conf.idx</th><th scope=col>euribor3m</th><th scope=col>nr.employed</th></tr></thead>\n",
       "<tbody>\n",
       "\t<tr><td>56         </td><td>housemaid  </td><td>married    </td><td>basic.4y   </td><td>no         </td><td>no         </td><td>no         </td><td>telephone  </td><td>may        </td><td>mon        </td><td>261        </td><td>1          </td><td>999        </td><td>0          </td><td>nonexistent</td><td>1.1        </td><td>93.994     </td><td>-36.4      </td><td>4.857      </td><td>5191       </td></tr>\n",
       "\t<tr><td>57         </td><td>services   </td><td>married    </td><td>high.school</td><td>unknown    </td><td>no         </td><td>no         </td><td>telephone  </td><td>may        </td><td>mon        </td><td>149        </td><td>1          </td><td>999        </td><td>0          </td><td>nonexistent</td><td>1.1        </td><td>93.994     </td><td>-36.4      </td><td>4.857      </td><td>5191       </td></tr>\n",
       "\t<tr><td>37         </td><td>services   </td><td>married    </td><td>high.school</td><td>no         </td><td>yes        </td><td>no         </td><td>telephone  </td><td>may        </td><td>mon        </td><td>226        </td><td>1          </td><td>999        </td><td>0          </td><td>nonexistent</td><td>1.1        </td><td>93.994     </td><td>-36.4      </td><td>4.857      </td><td>5191       </td></tr>\n",
       "\t<tr><td>40         </td><td>admin.     </td><td>married    </td><td>basic.6y   </td><td>no         </td><td>no         </td><td>no         </td><td>telephone  </td><td>may        </td><td>mon        </td><td>151        </td><td>1          </td><td>999        </td><td>0          </td><td>nonexistent</td><td>1.1        </td><td>93.994     </td><td>-36.4      </td><td>4.857      </td><td>5191       </td></tr>\n",
       "\t<tr><td>56         </td><td>services   </td><td>married    </td><td>high.school</td><td>no         </td><td>no         </td><td>yes        </td><td>telephone  </td><td>may        </td><td>mon        </td><td>307        </td><td>1          </td><td>999        </td><td>0          </td><td>nonexistent</td><td>1.1        </td><td>93.994     </td><td>-36.4      </td><td>4.857      </td><td>5191       </td></tr>\n",
       "\t<tr><td>45         </td><td>services   </td><td>married    </td><td>basic.9y   </td><td>unknown    </td><td>no         </td><td>no         </td><td>telephone  </td><td>may        </td><td>mon        </td><td>198        </td><td>1          </td><td>999        </td><td>0          </td><td>nonexistent</td><td>1.1        </td><td>93.994     </td><td>-36.4      </td><td>4.857      </td><td>5191       </td></tr>\n",
       "</tbody>\n",
       "</table>\n"
      ],
      "text/latex": [
       "\\begin{tabular}{r|llllllllllllllllllll}\n",
       " age & job & marital & education & default & housing & loan & contact & month & day\\_of\\_week & duration & campaign & pdays & previous & poutcome & emp.var.rate & cons.price.idx & cons.conf.idx & euribor3m & nr.employed\\\\\n",
       "\\hline\n",
       "\t 56          & housemaid   & married     & basic.4y    & no          & no          & no          & telephone   & may         & mon         & 261         & 1           & 999         & 0           & nonexistent & 1.1         & 93.994      & -36.4       & 4.857       & 5191       \\\\\n",
       "\t 57          & services    & married     & high.school & unknown     & no          & no          & telephone   & may         & mon         & 149         & 1           & 999         & 0           & nonexistent & 1.1         & 93.994      & -36.4       & 4.857       & 5191       \\\\\n",
       "\t 37          & services    & married     & high.school & no          & yes         & no          & telephone   & may         & mon         & 226         & 1           & 999         & 0           & nonexistent & 1.1         & 93.994      & -36.4       & 4.857       & 5191       \\\\\n",
       "\t 40          & admin.      & married     & basic.6y    & no          & no          & no          & telephone   & may         & mon         & 151         & 1           & 999         & 0           & nonexistent & 1.1         & 93.994      & -36.4       & 4.857       & 5191       \\\\\n",
       "\t 56          & services    & married     & high.school & no          & no          & yes         & telephone   & may         & mon         & 307         & 1           & 999         & 0           & nonexistent & 1.1         & 93.994      & -36.4       & 4.857       & 5191       \\\\\n",
       "\t 45          & services    & married     & basic.9y    & unknown     & no          & no          & telephone   & may         & mon         & 198         & 1           & 999         & 0           & nonexistent & 1.1         & 93.994      & -36.4       & 4.857       & 5191       \\\\\n",
       "\\end{tabular}\n"
      ],
      "text/markdown": [
       "\n",
       "age | job | marital | education | default | housing | loan | contact | month | day_of_week | duration | campaign | pdays | previous | poutcome | emp.var.rate | cons.price.idx | cons.conf.idx | euribor3m | nr.employed | \n",
       "|---|---|---|---|---|---|\n",
       "| 56          | housemaid   | married     | basic.4y    | no          | no          | no          | telephone   | may         | mon         | 261         | 1           | 999         | 0           | nonexistent | 1.1         | 93.994      | -36.4       | 4.857       | 5191        | \n",
       "| 57          | services    | married     | high.school | unknown     | no          | no          | telephone   | may         | mon         | 149         | 1           | 999         | 0           | nonexistent | 1.1         | 93.994      | -36.4       | 4.857       | 5191        | \n",
       "| 37          | services    | married     | high.school | no          | yes         | no          | telephone   | may         | mon         | 226         | 1           | 999         | 0           | nonexistent | 1.1         | 93.994      | -36.4       | 4.857       | 5191        | \n",
       "| 40          | admin.      | married     | basic.6y    | no          | no          | no          | telephone   | may         | mon         | 151         | 1           | 999         | 0           | nonexistent | 1.1         | 93.994      | -36.4       | 4.857       | 5191        | \n",
       "| 56          | services    | married     | high.school | no          | no          | yes         | telephone   | may         | mon         | 307         | 1           | 999         | 0           | nonexistent | 1.1         | 93.994      | -36.4       | 4.857       | 5191        | \n",
       "| 45          | services    | married     | basic.9y    | unknown     | no          | no          | telephone   | may         | mon         | 198         | 1           | 999         | 0           | nonexistent | 1.1         | 93.994      | -36.4       | 4.857       | 5191        | \n",
       "\n",
       "\n"
      ],
      "text/plain": [
       "  age job       marital education   default housing loan contact   month\n",
       "1 56  housemaid married basic.4y    no      no      no   telephone may  \n",
       "2 57  services  married high.school unknown no      no   telephone may  \n",
       "3 37  services  married high.school no      yes     no   telephone may  \n",
       "4 40  admin.    married basic.6y    no      no      no   telephone may  \n",
       "5 56  services  married high.school no      no      yes  telephone may  \n",
       "6 45  services  married basic.9y    unknown no      no   telephone may  \n",
       "  day_of_week duration campaign pdays previous poutcome    emp.var.rate\n",
       "1 mon         261      1        999   0        nonexistent 1.1         \n",
       "2 mon         149      1        999   0        nonexistent 1.1         \n",
       "3 mon         226      1        999   0        nonexistent 1.1         \n",
       "4 mon         151      1        999   0        nonexistent 1.1         \n",
       "5 mon         307      1        999   0        nonexistent 1.1         \n",
       "6 mon         198      1        999   0        nonexistent 1.1         \n",
       "  cons.price.idx cons.conf.idx euribor3m nr.employed\n",
       "1 93.994         -36.4         4.857     5191       \n",
       "2 93.994         -36.4         4.857     5191       \n",
       "3 93.994         -36.4         4.857     5191       \n",
       "4 93.994         -36.4         4.857     5191       \n",
       "5 93.994         -36.4         4.857     5191       \n",
       "6 93.994         -36.4         4.857     5191       "
      ]
     },
     "metadata": {},
     "output_type": "display_data"
    }
   ],
   "source": [
    "### se extrae la última columna que contiene la variable de respuesta\n",
    "y = bank$y\n",
    "\n",
    "## se elimina la última columna (variable respuesta)\n",
    "\n",
    "x = bank[,1:20]\n",
    "head(x)\n"
   ]
  },
  {
   "cell_type": "code",
   "execution_count": 6,
   "metadata": {},
   "outputs": [
    {
     "data": {
      "text/plain": [
       "y\n",
       "   no   yes \n",
       "36548  4640 "
      ]
     },
     "metadata": {},
     "output_type": "display_data"
    }
   ],
   "source": [
    "## cantidad de casos para respuesta\n",
    "table(y)"
   ]
  },
  {
   "cell_type": "code",
   "execution_count": 7,
   "metadata": {},
   "outputs": [
    {
     "data": {
      "text/plain": [
       "y\n",
       "       no       yes \n",
       "0.8873458 0.1126542 "
      ]
     },
     "metadata": {},
     "output_type": "display_data"
    }
   ],
   "source": [
    "## se obtiene la proporción de depósitos a término\n",
    "## contratados y NO contratados\n",
    "prop.table(table(y))"
   ]
  },
  {
   "cell_type": "code",
   "execution_count": 8,
   "metadata": {},
   "outputs": [
    {
     "data": {
      "image/png": "[encoded data removed]",
      "text/plain": [
       "plot without title"
      ]
     },
     "metadata": {},
     "output_type": "display_data"
    }
   ],
   "source": [
    "### graficamos las variables categoricas para ver su comportamiento\n",
    "p1 <- ggplot(x, aes(x = job)) + geom_bar() + theme(axis.text.x = element_text(angle = 90, vjust = 0.5, size = 8))\n",
    "p2 <- ggplot(x, aes(x = marital)) + geom_bar() + theme(axis.text.x = element_text(angle = 90, vjust = 0.5, size = 8))\n",
    "p3 <- ggplot(x, aes(x = education)) + geom_bar() + theme(axis.text.x = element_text(angle = 90, vjust = 0.5, size = 8))\n",
    "p4 <- ggplot(x, aes(x = default)) + geom_bar()\n",
    "p5 <- ggplot(x, aes(x = housing)) + geom_bar()\n",
    "p6 <- ggplot(x, aes(x = loan)) + geom_bar()\n",
    "\n",
    "\n",
    "grid.arrange(p1, p2, p3, p4, p5, p6, ncol=2)"
   ]
  },
  {
   "cell_type": "code",
   "execution_count": 9,
   "metadata": {},
   "outputs": [
    {
     "data": {
      "image/png": "[encoded data removed]",
      "text/plain": [
       "plot without title"
      ]
     },
     "metadata": {},
     "output_type": "display_data"
    }
   ],
   "source": [
    "p7 <- ggplot(x, aes(x = contact)) + geom_bar()\n",
    "p8 <- ggplot(x, aes(x = month)) + geom_bar()+ theme(axis.text.x = element_text(angle = 90, vjust = 0.5, size = 8))\n",
    "p9 <- ggplot(x, aes(x = day_of_week)) + geom_bar()\n",
    "p10 <- ggplot(x, aes(x = poutcome)) + geom_bar()+ theme(axis.text.x = element_text(angle = 90, vjust = 0.5, size = 8))\n",
    "\n",
    "grid.arrange(p7, p8, p9, p10, ncol=2)"
   ]
  },
  {
   "cell_type": "code",
   "execution_count": 10,
   "metadata": {
    "scrolled": false
   },
   "outputs": [
    {
     "data": {},
     "metadata": {},
     "output_type": "display_data"
    },
    {
     "data": {
      "image/png": "[encoded data removed]",
      "text/plain": [
       "plot without title"
      ]
     },
     "metadata": {},
     "output_type": "display_data"
    }
   ],
   "source": [
    "## Se grafica la matriz de correlaciones\n",
    "data_corr<-select(x, -c(job, marital, education, default, housing, loan, contact, month, day_of_week, poutcome))\n",
    "corr <- round(cor(data_corr), 1)\n",
    "ggcorrplot(corr, method = \"circle\")\n",
    "\n"
   ]
  },
  {
   "cell_type": "markdown",
   "metadata": {},
   "source": [
    "De la gráfica anterior se puede ver que existe una correlación positiva entre las variables nr.employed(# de empleados) y euribor3m (tipo europeo de oferta interbancaria), de igual forma estas dos variables tienen correlación positiva con la variable emp.var.rate (tasa de variación del empleo), se puede observar tambien una correlación positiva entre cons.price.idx con las 3 variables mencionadas anteriormente. Estas correlaciones pueden deberse a que las variables son macroeconomicas y todas reflejan el comportamiento de la economía europea."
   ]
  },
  {
   "cell_type": "code",
   "execution_count": 11,
   "metadata": {},
   "outputs": [
    {
     "data": {
      "text/html": [
       "<table>\n",
       "<thead><tr><th scope=col>age</th><th scope=col>job</th><th scope=col>marital</th><th scope=col>education</th><th scope=col>default</th><th scope=col>housing</th><th scope=col>loan</th><th scope=col>contact</th><th scope=col>month</th><th scope=col>day_of_week</th><th scope=col>duration</th><th scope=col>campaign</th><th scope=col>pdays</th><th scope=col>previous</th><th scope=col>poutcome</th><th scope=col>cons.price.idx</th><th scope=col>cons.conf.idx</th></tr></thead>\n",
       "<tbody>\n",
       "\t<tr><td>56         </td><td>housemaid  </td><td>married    </td><td>basic.4y   </td><td>no         </td><td>no         </td><td>no         </td><td>telephone  </td><td>may        </td><td>mon        </td><td>261        </td><td>1          </td><td>999        </td><td>0          </td><td>nonexistent</td><td>93.994     </td><td>-36.4      </td></tr>\n",
       "\t<tr><td>57         </td><td>services   </td><td>married    </td><td>high.school</td><td>unknown    </td><td>no         </td><td>no         </td><td>telephone  </td><td>may        </td><td>mon        </td><td>149        </td><td>1          </td><td>999        </td><td>0          </td><td>nonexistent</td><td>93.994     </td><td>-36.4      </td></tr>\n",
       "\t<tr><td>37         </td><td>services   </td><td>married    </td><td>high.school</td><td>no         </td><td>yes        </td><td>no         </td><td>telephone  </td><td>may        </td><td>mon        </td><td>226        </td><td>1          </td><td>999        </td><td>0          </td><td>nonexistent</td><td>93.994     </td><td>-36.4      </td></tr>\n",
       "\t<tr><td>40         </td><td>admin.     </td><td>married    </td><td>basic.6y   </td><td>no         </td><td>no         </td><td>no         </td><td>telephone  </td><td>may        </td><td>mon        </td><td>151        </td><td>1          </td><td>999        </td><td>0          </td><td>nonexistent</td><td>93.994     </td><td>-36.4      </td></tr>\n",
       "\t<tr><td>56         </td><td>services   </td><td>married    </td><td>high.school</td><td>no         </td><td>no         </td><td>yes        </td><td>telephone  </td><td>may        </td><td>mon        </td><td>307        </td><td>1          </td><td>999        </td><td>0          </td><td>nonexistent</td><td>93.994     </td><td>-36.4      </td></tr>\n",
       "\t<tr><td>45         </td><td>services   </td><td>married    </td><td>basic.9y   </td><td>unknown    </td><td>no         </td><td>no         </td><td>telephone  </td><td>may        </td><td>mon        </td><td>198        </td><td>1          </td><td>999        </td><td>0          </td><td>nonexistent</td><td>93.994     </td><td>-36.4      </td></tr>\n",
       "</tbody>\n",
       "</table>\n"
      ],
      "text/latex": [
       "\\begin{tabular}{r|lllllllllllllllll}\n",
       " age & job & marital & education & default & housing & loan & contact & month & day\\_of\\_week & duration & campaign & pdays & previous & poutcome & cons.price.idx & cons.conf.idx\\\\\n",
       "\\hline\n",
       "\t 56          & housemaid   & married     & basic.4y    & no          & no          & no          & telephone   & may         & mon         & 261         & 1           & 999         & 0           & nonexistent & 93.994      & -36.4      \\\\\n",
       "\t 57          & services    & married     & high.school & unknown     & no          & no          & telephone   & may         & mon         & 149         & 1           & 999         & 0           & nonexistent & 93.994      & -36.4      \\\\\n",
       "\t 37          & services    & married     & high.school & no          & yes         & no          & telephone   & may         & mon         & 226         & 1           & 999         & 0           & nonexistent & 93.994      & -36.4      \\\\\n",
       "\t 40          & admin.      & married     & basic.6y    & no          & no          & no          & telephone   & may         & mon         & 151         & 1           & 999         & 0           & nonexistent & 93.994      & -36.4      \\\\\n",
       "\t 56          & services    & married     & high.school & no          & no          & yes         & telephone   & may         & mon         & 307         & 1           & 999         & 0           & nonexistent & 93.994      & -36.4      \\\\\n",
       "\t 45          & services    & married     & basic.9y    & unknown     & no          & no          & telephone   & may         & mon         & 198         & 1           & 999         & 0           & nonexistent & 93.994      & -36.4      \\\\\n",
       "\\end{tabular}\n"
      ],
      "text/markdown": [
       "\n",
       "age | job | marital | education | default | housing | loan | contact | month | day_of_week | duration | campaign | pdays | previous | poutcome | cons.price.idx | cons.conf.idx | \n",
       "|---|---|---|---|---|---|\n",
       "| 56          | housemaid   | married     | basic.4y    | no          | no          | no          | telephone   | may         | mon         | 261         | 1           | 999         | 0           | nonexistent | 93.994      | -36.4       | \n",
       "| 57          | services    | married     | high.school | unknown     | no          | no          | telephone   | may         | mon         | 149         | 1           | 999         | 0           | nonexistent | 93.994      | -36.4       | \n",
       "| 37          | services    | married     | high.school | no          | yes         | no          | telephone   | may         | mon         | 226         | 1           | 999         | 0           | nonexistent | 93.994      | -36.4       | \n",
       "| 40          | admin.      | married     | basic.6y    | no          | no          | no          | telephone   | may         | mon         | 151         | 1           | 999         | 0           | nonexistent | 93.994      | -36.4       | \n",
       "| 56          | services    | married     | high.school | no          | no          | yes         | telephone   | may         | mon         | 307         | 1           | 999         | 0           | nonexistent | 93.994      | -36.4       | \n",
       "| 45          | services    | married     | basic.9y    | unknown     | no          | no          | telephone   | may         | mon         | 198         | 1           | 999         | 0           | nonexistent | 93.994      | -36.4       | \n",
       "\n",
       "\n"
      ],
      "text/plain": [
       "  age job       marital education   default housing loan contact   month\n",
       "1 56  housemaid married basic.4y    no      no      no   telephone may  \n",
       "2 57  services  married high.school unknown no      no   telephone may  \n",
       "3 37  services  married high.school no      yes     no   telephone may  \n",
       "4 40  admin.    married basic.6y    no      no      no   telephone may  \n",
       "5 56  services  married high.school no      no      yes  telephone may  \n",
       "6 45  services  married basic.9y    unknown no      no   telephone may  \n",
       "  day_of_week duration campaign pdays previous poutcome    cons.price.idx\n",
       "1 mon         261      1        999   0        nonexistent 93.994        \n",
       "2 mon         149      1        999   0        nonexistent 93.994        \n",
       "3 mon         226      1        999   0        nonexistent 93.994        \n",
       "4 mon         151      1        999   0        nonexistent 93.994        \n",
       "5 mon         307      1        999   0        nonexistent 93.994        \n",
       "6 mon         198      1        999   0        nonexistent 93.994        \n",
       "  cons.conf.idx\n",
       "1 -36.4        \n",
       "2 -36.4        \n",
       "3 -36.4        \n",
       "4 -36.4        \n",
       "5 -36.4        \n",
       "6 -36.4        "
      ]
     },
     "metadata": {},
     "output_type": "display_data"
    },
    {
     "data": {
      "text/html": [
       "<ol class=list-inline>\n",
       "\t<li>41188</li>\n",
       "\t<li>17</li>\n",
       "</ol>\n"
      ],
      "text/latex": [
       "\\begin{enumerate*}\n",
       "\\item 41188\n",
       "\\item 17\n",
       "\\end{enumerate*}\n"
      ],
      "text/markdown": [
       "1. 41188\n",
       "2. 17\n",
       "\n",
       "\n"
      ],
      "text/plain": [
       "[1] 41188    17"
      ]
     },
     "metadata": {},
     "output_type": "display_data"
    }
   ],
   "source": [
    "###Debido a que existe una alta correlación entre las variables nr.employed, euribor3m, emp.var.rate y cons.price.idx\n",
    "###se decide suprimir estas variables excepto cons.price.idx\n",
    "\n",
    "## se eliminan las variables nr.employed, euribor3m, emp.var.rate\n",
    "\n",
    "x = bank[,1:20]\n",
    "x = x[,-c(16,19,20)]\n",
    "head(x)\n",
    "dim(x)"
   ]
  },
  {
   "cell_type": "markdown",
   "metadata": {},
   "source": [
    "REMUESTREO DE LOS DATOS\n",
    "--"
   ]
  },
  {
   "cell_type": "code",
   "execution_count": 12,
   "metadata": {},
   "outputs": [
    {
     "data": {
      "text/html": [
       "<ol class=list-inline>\n",
       "\t<li>4640</li>\n",
       "\t<li>21</li>\n",
       "</ol>\n"
      ],
      "text/latex": [
       "\\begin{enumerate*}\n",
       "\\item 4640\n",
       "\\item 21\n",
       "\\end{enumerate*}\n"
      ],
      "text/markdown": [
       "1. 4640\n",
       "2. 21\n",
       "\n",
       "\n"
      ],
      "text/plain": [
       "[1] 4640   21"
      ]
     },
     "metadata": {},
     "output_type": "display_data"
    },
    {
     "data": {
      "text/html": [
       "<ol class=list-inline>\n",
       "\t<li>36548</li>\n",
       "\t<li>21</li>\n",
       "</ol>\n"
      ],
      "text/latex": [
       "\\begin{enumerate*}\n",
       "\\item 36548\n",
       "\\item 21\n",
       "\\end{enumerate*}\n"
      ],
      "text/markdown": [
       "1. 36548\n",
       "2. 21\n",
       "\n",
       "\n"
      ],
      "text/plain": [
       "[1] 36548    21"
      ]
     },
     "metadata": {},
     "output_type": "display_data"
    }
   ],
   "source": [
    "### se debe realizar un remuestreo de los datos pues las clases de predicción están desbalanceadas\n",
    "### se realizará un remuestreo combinado donde los datos de la categoría minoritaría serán replicados y los de la catedoría mayoritaria serán reducidos con el fin de equilibrar los datos\n",
    "###Primero se separan los datos de cada categoría (si y no)\n",
    "xsi=subset(bank, bank$y==\"yes\")\n",
    "dim(xsi)\n",
    "xno=subset(bank,bank$y==\"no\")\n",
    "dim(xno)"
   ]
  },
  {
   "cell_type": "code",
   "execution_count": 17,
   "metadata": {},
   "outputs": [
    {
     "data": {
      "text/html": [
       "36548"
      ],
      "text/latex": [
       "36548"
      ],
      "text/markdown": [
       "36548"
      ],
      "text/plain": [
       "[1] 36548"
      ]
     },
     "metadata": {},
     "output_type": "display_data"
    }
   ],
   "source": [
    "###luego se deben replicar los datos de la categoría si, pues son los que menos observaciones tienen\n",
    "replicasi=rbind(xsi,xsi)\n",
    "###se reducen los datos de la categoría no\n",
    "n=length(xno[,1]);n\n",
    "i=1:n\n",
    "ii=sample(i,size=15000, replace=FALSE)\n",
    "replicano=xno[ii,]\n"
   ]
  },
  {
   "cell_type": "code",
   "execution_count": 20,
   "metadata": {},
   "outputs": [
    {
     "data": {
      "text/html": [
       "<ol class=list-inline>\n",
       "\t<li>24280</li>\n",
       "\t<li>21</li>\n",
       "</ol>\n"
      ],
      "text/latex": [
       "\\begin{enumerate*}\n",
       "\\item 24280\n",
       "\\item 21\n",
       "\\end{enumerate*}\n"
      ],
      "text/markdown": [
       "1. 24280\n",
       "2. 21\n",
       "\n",
       "\n"
      ],
      "text/plain": [
       "[1] 24280    21"
      ]
     },
     "metadata": {},
     "output_type": "display_data"
    }
   ],
   "source": [
    "#### unimos los datos replicados con los datos de la categoría no\n",
    "replicabank=rbind(replicasi,replicano)\n",
    "#### se reordenan los datos\n",
    "replicabank=sample(replicabank)\n",
    "dim(replicabank)"
   ]
  },
  {
   "cell_type": "code",
   "execution_count": 21,
   "metadata": {},
   "outputs": [
    {
     "data": {
      "text/plain": [
       "y\n",
       "       no       yes \n",
       "0.6177924 0.3822076 "
      ]
     },
     "metadata": {},
     "output_type": "display_data"
    }
   ],
   "source": [
    "###se verifica el balanceo de la muestra\n",
    "y=replicabank$y\n",
    "prop.table(table(y))"
   ]
  },
  {
   "cell_type": "code",
   "execution_count": 22,
   "metadata": {},
   "outputs": [
    {
     "data": {
      "text/html": [
       "<table>\n",
       "<thead><tr><th></th><th scope=col>nr.employed</th><th scope=col>loan</th><th scope=col>month</th><th scope=col>contact</th><th scope=col>duration</th><th scope=col>education</th><th scope=col>pdays</th><th scope=col>day_of_week</th><th scope=col>housing</th><th scope=col>cons.price.idx</th><th scope=col>campaign</th><th scope=col>cons.conf.idx</th><th scope=col>emp.var.rate</th><th scope=col>poutcome</th><th scope=col>default</th><th scope=col>marital</th><th scope=col>previous</th><th scope=col>job</th><th scope=col>age</th><th scope=col>euribor3m</th></tr></thead>\n",
       "<tbody>\n",
       "\t<tr><th scope=row>76</th><td>5191               </td><td>no                 </td><td>may                </td><td>telephone          </td><td>1575               </td><td>basic.4y           </td><td>999                </td><td>mon                </td><td>yes                </td><td>93.994             </td><td>1                  </td><td>-36.4              </td><td>1.1                </td><td>nonexistent        </td><td>unknown            </td><td>divorced           </td><td>0                  </td><td>blue-collar        </td><td>41                 </td><td>4.857              </td></tr>\n",
       "\t<tr><th scope=row>84</th><td>5191               </td><td>no                 </td><td>may                </td><td>telephone          </td><td>1042               </td><td>university.degree  </td><td>999                </td><td>mon                </td><td>yes                </td><td>93.994             </td><td>1                  </td><td>-36.4              </td><td>1.1                </td><td>nonexistent        </td><td>unknown            </td><td>married            </td><td>0                  </td><td>entrepreneur       </td><td>49                 </td><td>4.857              </td></tr>\n",
       "\t<tr><th scope=row>89</th><td>5191               </td><td>no                 </td><td>may                </td><td>telephone          </td><td>1467               </td><td>basic.9y           </td><td>999                </td><td>mon                </td><td>no                 </td><td>93.994             </td><td>1                  </td><td>-36.4              </td><td>1.1                </td><td>nonexistent        </td><td>no                 </td><td>married            </td><td>0                  </td><td>technician         </td><td>49                 </td><td>4.857              </td></tr>\n",
       "\t<tr><th scope=row>130</th><td>5191               </td><td>no                 </td><td>may                </td><td>telephone          </td><td> 579               </td><td>professional.course</td><td>999                </td><td>mon                </td><td>yes                </td><td>93.994             </td><td>1                  </td><td>-36.4              </td><td>1.1                </td><td>nonexistent        </td><td>unknown            </td><td>married            </td><td>0                  </td><td>technician         </td><td>41                 </td><td>4.857              </td></tr>\n",
       "\t<tr><th scope=row>140</th><td>5191               </td><td>no                 </td><td>may                </td><td>telephone          </td><td> 461               </td><td>basic.9y           </td><td>999                </td><td>mon                </td><td>yes                </td><td>93.994             </td><td>1                  </td><td>-36.4              </td><td>1.1                </td><td>nonexistent        </td><td>unknown            </td><td>married            </td><td>0                  </td><td>blue-collar        </td><td>45                 </td><td>4.857              </td></tr>\n",
       "\t<tr><th scope=row>183</th><td>5191               </td><td>yes                </td><td>may                </td><td>telephone          </td><td> 673               </td><td>basic.9y           </td><td>999                </td><td>mon                </td><td>yes                </td><td>93.994             </td><td>2                  </td><td>-36.4              </td><td>1.1                </td><td>nonexistent        </td><td>no                 </td><td>married            </td><td>0                  </td><td>blue-collar        </td><td>42                 </td><td>4.857              </td></tr>\n",
       "</tbody>\n",
       "</table>\n"
      ],
      "text/latex": [
       "\\begin{tabular}{r|llllllllllllllllllll}\n",
       "  & nr.employed & loan & month & contact & duration & education & pdays & day\\_of\\_week & housing & cons.price.idx & campaign & cons.conf.idx & emp.var.rate & poutcome & default & marital & previous & job & age & euribor3m\\\\\n",
       "\\hline\n",
       "\t76 & 5191                & no                  & may                 & telephone           & 1575                & basic.4y            & 999                 & mon                 & yes                 & 93.994              & 1                   & -36.4               & 1.1                 & nonexistent         & unknown             & divorced            & 0                   & blue-collar         & 41                  & 4.857              \\\\\n",
       "\t84 & 5191                & no                  & may                 & telephone           & 1042                & university.degree   & 999                 & mon                 & yes                 & 93.994              & 1                   & -36.4               & 1.1                 & nonexistent         & unknown             & married             & 0                   & entrepreneur        & 49                  & 4.857              \\\\\n",
       "\t89 & 5191                & no                  & may                 & telephone           & 1467                & basic.9y            & 999                 & mon                 & no                  & 93.994              & 1                   & -36.4               & 1.1                 & nonexistent         & no                  & married             & 0                   & technician          & 49                  & 4.857              \\\\\n",
       "\t130 & 5191                & no                  & may                 & telephone           &  579                & professional.course & 999                 & mon                 & yes                 & 93.994              & 1                   & -36.4               & 1.1                 & nonexistent         & unknown             & married             & 0                   & technician          & 41                  & 4.857              \\\\\n",
       "\t140 & 5191                & no                  & may                 & telephone           &  461                & basic.9y            & 999                 & mon                 & yes                 & 93.994              & 1                   & -36.4               & 1.1                 & nonexistent         & unknown             & married             & 0                   & blue-collar         & 45                  & 4.857              \\\\\n",
       "\t183 & 5191                & yes                 & may                 & telephone           &  673                & basic.9y            & 999                 & mon                 & yes                 & 93.994              & 2                   & -36.4               & 1.1                 & nonexistent         & no                  & married             & 0                   & blue-collar         & 42                  & 4.857              \\\\\n",
       "\\end{tabular}\n"
      ],
      "text/markdown": [
       "\n",
       "| <!--/--> | nr.employed | loan | month | contact | duration | education | pdays | day_of_week | housing | cons.price.idx | campaign | cons.conf.idx | emp.var.rate | poutcome | default | marital | previous | job | age | euribor3m | \n",
       "|---|---|---|---|---|---|\n",
       "| 76 | 5191                | no                  | may                 | telephone           | 1575                | basic.4y            | 999                 | mon                 | yes                 | 93.994              | 1                   | -36.4               | 1.1                 | nonexistent         | unknown             | divorced            | 0                   | blue-collar         | 41                  | 4.857               | \n",
       "| 84 | 5191                | no                  | may                 | telephone           | 1042                | university.degree   | 999                 | mon                 | yes                 | 93.994              | 1                   | -36.4               | 1.1                 | nonexistent         | unknown             | married             | 0                   | entrepreneur        | 49                  | 4.857               | \n",
       "| 89 | 5191                | no                  | may                 | telephone           | 1467                | basic.9y            | 999                 | mon                 | no                  | 93.994              | 1                   | -36.4               | 1.1                 | nonexistent         | no                  | married             | 0                   | technician          | 49                  | 4.857               | \n",
       "| 130 | 5191                | no                  | may                 | telephone           |  579                | professional.course | 999                 | mon                 | yes                 | 93.994              | 1                   | -36.4               | 1.1                 | nonexistent         | unknown             | married             | 0                   | technician          | 41                  | 4.857               | \n",
       "| 140 | 5191                | no                  | may                 | telephone           |  461                | basic.9y            | 999                 | mon                 | yes                 | 93.994              | 1                   | -36.4               | 1.1                 | nonexistent         | unknown             | married             | 0                   | blue-collar         | 45                  | 4.857               | \n",
       "| 183 | 5191                | yes                 | may                 | telephone           |  673                | basic.9y            | 999                 | mon                 | yes                 | 93.994              | 2                   | -36.4               | 1.1                 | nonexistent         | no                  | married             | 0                   | blue-collar         | 42                  | 4.857               | \n",
       "\n",
       "\n"
      ],
      "text/plain": [
       "    nr.employed loan month contact   duration education           pdays\n",
       "76  5191        no   may   telephone 1575     basic.4y            999  \n",
       "84  5191        no   may   telephone 1042     university.degree   999  \n",
       "89  5191        no   may   telephone 1467     basic.9y            999  \n",
       "130 5191        no   may   telephone  579     professional.course 999  \n",
       "140 5191        no   may   telephone  461     basic.9y            999  \n",
       "183 5191        yes  may   telephone  673     basic.9y            999  \n",
       "    day_of_week housing cons.price.idx campaign cons.conf.idx emp.var.rate\n",
       "76  mon         yes     93.994         1        -36.4         1.1         \n",
       "84  mon         yes     93.994         1        -36.4         1.1         \n",
       "89  mon         no      93.994         1        -36.4         1.1         \n",
       "130 mon         yes     93.994         1        -36.4         1.1         \n",
       "140 mon         yes     93.994         1        -36.4         1.1         \n",
       "183 mon         yes     93.994         2        -36.4         1.1         \n",
       "    poutcome    default marital  previous job          age euribor3m\n",
       "76  nonexistent unknown divorced 0        blue-collar  41  4.857    \n",
       "84  nonexistent unknown married  0        entrepreneur 49  4.857    \n",
       "89  nonexistent no      married  0        technician   49  4.857    \n",
       "130 nonexistent unknown married  0        technician   41  4.857    \n",
       "140 nonexistent unknown married  0        blue-collar  45  4.857    \n",
       "183 nonexistent no      married  0        blue-collar  42  4.857    "
      ]
     },
     "metadata": {},
     "output_type": "display_data"
    }
   ],
   "source": [
    "###Se separa la variable respuesta del set de datos replicado\n",
    "x = replicabank[,1:20]\n",
    "head(x)"
   ]
  },
  {
   "cell_type": "code",
   "execution_count": 23,
   "metadata": {},
   "outputs": [
    {
     "name": "stdout",
     "output_type": "stream",
     "text": [
      " int [1:11457] 4764 21964 13121 9776 19275 10331 14531 2765 748 12360 ...\n"
     ]
    }
   ],
   "source": [
    "##se genera una muestra aleatoria donde se usan (75%) datos para el training y (25%) para el testing\n",
    "muestra <- sample(1:nrow(x), 11457) \n",
    "str(muestra)\n",
    "\n",
    "### se dividen los datos en conjunto de entrenamiento y conjunto de prueba\n",
    "\n",
    "xtrain <- x[-muestra,]\n",
    "xtest <- x[muestra,]\n",
    "ytrain <- y[-muestra]\n",
    "ytest <- y[muestra]\n"
   ]
  },
  {
   "cell_type": "markdown",
   "metadata": {},
   "source": [
    "NOTA\n",
    "--\n",
    "Tras evaluar los modelos con esta nueva muestra de datos se decide utilizar los datos sin remuestreo, pues al realizar este proceso se incurre en una sobre estimación del modelo."
   ]
  },
  {
   "cell_type": "code",
   "execution_count": 24,
   "metadata": {},
   "outputs": [
    {
     "data": {
      "text/html": [
       "<table>\n",
       "<thead><tr><th scope=col>age</th><th scope=col>job</th><th scope=col>marital</th><th scope=col>education</th><th scope=col>default</th><th scope=col>housing</th><th scope=col>loan</th><th scope=col>contact</th><th scope=col>month</th><th scope=col>day_of_week</th><th scope=col>duration</th><th scope=col>campaign</th><th scope=col>pdays</th><th scope=col>previous</th><th scope=col>poutcome</th><th scope=col>cons.price.idx</th><th scope=col>cons.conf.idx</th></tr></thead>\n",
       "<tbody>\n",
       "\t<tr><td>56         </td><td>housemaid  </td><td>married    </td><td>basic.4y   </td><td>no         </td><td>no         </td><td>no         </td><td>telephone  </td><td>may        </td><td>mon        </td><td>261        </td><td>1          </td><td>999        </td><td>0          </td><td>nonexistent</td><td>93.994     </td><td>-36.4      </td></tr>\n",
       "\t<tr><td>57         </td><td>services   </td><td>married    </td><td>high.school</td><td>unknown    </td><td>no         </td><td>no         </td><td>telephone  </td><td>may        </td><td>mon        </td><td>149        </td><td>1          </td><td>999        </td><td>0          </td><td>nonexistent</td><td>93.994     </td><td>-36.4      </td></tr>\n",
       "\t<tr><td>37         </td><td>services   </td><td>married    </td><td>high.school</td><td>no         </td><td>yes        </td><td>no         </td><td>telephone  </td><td>may        </td><td>mon        </td><td>226        </td><td>1          </td><td>999        </td><td>0          </td><td>nonexistent</td><td>93.994     </td><td>-36.4      </td></tr>\n",
       "\t<tr><td>40         </td><td>admin.     </td><td>married    </td><td>basic.6y   </td><td>no         </td><td>no         </td><td>no         </td><td>telephone  </td><td>may        </td><td>mon        </td><td>151        </td><td>1          </td><td>999        </td><td>0          </td><td>nonexistent</td><td>93.994     </td><td>-36.4      </td></tr>\n",
       "\t<tr><td>56         </td><td>services   </td><td>married    </td><td>high.school</td><td>no         </td><td>no         </td><td>yes        </td><td>telephone  </td><td>may        </td><td>mon        </td><td>307        </td><td>1          </td><td>999        </td><td>0          </td><td>nonexistent</td><td>93.994     </td><td>-36.4      </td></tr>\n",
       "\t<tr><td>45         </td><td>services   </td><td>married    </td><td>basic.9y   </td><td>unknown    </td><td>no         </td><td>no         </td><td>telephone  </td><td>may        </td><td>mon        </td><td>198        </td><td>1          </td><td>999        </td><td>0          </td><td>nonexistent</td><td>93.994     </td><td>-36.4      </td></tr>\n",
       "</tbody>\n",
       "</table>\n"
      ],
      "text/latex": [
       "\\begin{tabular}{r|lllllllllllllllll}\n",
       " age & job & marital & education & default & housing & loan & contact & month & day\\_of\\_week & duration & campaign & pdays & previous & poutcome & cons.price.idx & cons.conf.idx\\\\\n",
       "\\hline\n",
       "\t 56          & housemaid   & married     & basic.4y    & no          & no          & no          & telephone   & may         & mon         & 261         & 1           & 999         & 0           & nonexistent & 93.994      & -36.4      \\\\\n",
       "\t 57          & services    & married     & high.school & unknown     & no          & no          & telephone   & may         & mon         & 149         & 1           & 999         & 0           & nonexistent & 93.994      & -36.4      \\\\\n",
       "\t 37          & services    & married     & high.school & no          & yes         & no          & telephone   & may         & mon         & 226         & 1           & 999         & 0           & nonexistent & 93.994      & -36.4      \\\\\n",
       "\t 40          & admin.      & married     & basic.6y    & no          & no          & no          & telephone   & may         & mon         & 151         & 1           & 999         & 0           & nonexistent & 93.994      & -36.4      \\\\\n",
       "\t 56          & services    & married     & high.school & no          & no          & yes         & telephone   & may         & mon         & 307         & 1           & 999         & 0           & nonexistent & 93.994      & -36.4      \\\\\n",
       "\t 45          & services    & married     & basic.9y    & unknown     & no          & no          & telephone   & may         & mon         & 198         & 1           & 999         & 0           & nonexistent & 93.994      & -36.4      \\\\\n",
       "\\end{tabular}\n"
      ],
      "text/markdown": [
       "\n",
       "age | job | marital | education | default | housing | loan | contact | month | day_of_week | duration | campaign | pdays | previous | poutcome | cons.price.idx | cons.conf.idx | \n",
       "|---|---|---|---|---|---|\n",
       "| 56          | housemaid   | married     | basic.4y    | no          | no          | no          | telephone   | may         | mon         | 261         | 1           | 999         | 0           | nonexistent | 93.994      | -36.4       | \n",
       "| 57          | services    | married     | high.school | unknown     | no          | no          | telephone   | may         | mon         | 149         | 1           | 999         | 0           | nonexistent | 93.994      | -36.4       | \n",
       "| 37          | services    | married     | high.school | no          | yes         | no          | telephone   | may         | mon         | 226         | 1           | 999         | 0           | nonexistent | 93.994      | -36.4       | \n",
       "| 40          | admin.      | married     | basic.6y    | no          | no          | no          | telephone   | may         | mon         | 151         | 1           | 999         | 0           | nonexistent | 93.994      | -36.4       | \n",
       "| 56          | services    | married     | high.school | no          | no          | yes         | telephone   | may         | mon         | 307         | 1           | 999         | 0           | nonexistent | 93.994      | -36.4       | \n",
       "| 45          | services    | married     | basic.9y    | unknown     | no          | no          | telephone   | may         | mon         | 198         | 1           | 999         | 0           | nonexistent | 93.994      | -36.4       | \n",
       "\n",
       "\n"
      ],
      "text/plain": [
       "  age job       marital education   default housing loan contact   month\n",
       "1 56  housemaid married basic.4y    no      no      no   telephone may  \n",
       "2 57  services  married high.school unknown no      no   telephone may  \n",
       "3 37  services  married high.school no      yes     no   telephone may  \n",
       "4 40  admin.    married basic.6y    no      no      no   telephone may  \n",
       "5 56  services  married high.school no      no      yes  telephone may  \n",
       "6 45  services  married basic.9y    unknown no      no   telephone may  \n",
       "  day_of_week duration campaign pdays previous poutcome    cons.price.idx\n",
       "1 mon         261      1        999   0        nonexistent 93.994        \n",
       "2 mon         149      1        999   0        nonexistent 93.994        \n",
       "3 mon         226      1        999   0        nonexistent 93.994        \n",
       "4 mon         151      1        999   0        nonexistent 93.994        \n",
       "5 mon         307      1        999   0        nonexistent 93.994        \n",
       "6 mon         198      1        999   0        nonexistent 93.994        \n",
       "  cons.conf.idx\n",
       "1 -36.4        \n",
       "2 -36.4        \n",
       "3 -36.4        \n",
       "4 -36.4        \n",
       "5 -36.4        \n",
       "6 -36.4        "
      ]
     },
     "metadata": {},
     "output_type": "display_data"
    },
    {
     "data": {
      "text/html": [
       "<ol class=list-inline>\n",
       "\t<li>41188</li>\n",
       "\t<li>17</li>\n",
       "</ol>\n"
      ],
      "text/latex": [
       "\\begin{enumerate*}\n",
       "\\item 41188\n",
       "\\item 17\n",
       "\\end{enumerate*}\n"
      ],
      "text/markdown": [
       "1. 41188\n",
       "2. 17\n",
       "\n",
       "\n"
      ],
      "text/plain": [
       "[1] 41188    17"
      ]
     },
     "metadata": {},
     "output_type": "display_data"
    }
   ],
   "source": [
    "### SE GENERAN NUEVAMENTE LOS DATOS DE TRAINING Y TESTING PARTIENDO DE LA BASE ORIGINAL\n",
    "### se extrae la última columna que contiene la variable de respuesta\n",
    "y = bank$y\n",
    "\n",
    "## se elimina la última columna (variable respuesta)\n",
    "\n",
    "x = bank[,1:20]\n",
    "x = x[,-c(16,19,20)]\n",
    "head(x)\n",
    "dim(x)"
   ]
  },
  {
   "cell_type": "code",
   "execution_count": 25,
   "metadata": {},
   "outputs": [
    {
     "name": "stdout",
     "output_type": "stream",
     "text": [
      " int [1:10297] 14040 5406 28559 1918 18007 22544 32441 19373 11437 27140 ...\n"
     ]
    }
   ],
   "source": [
    "##se genera una muestra aleatoria donde se usan (75%) datos para el training y (25%) para el testing\n",
    "muestra <- sample(1:nrow(x), 10297) \n",
    "str(muestra)"
   ]
  },
  {
   "cell_type": "code",
   "execution_count": 26,
   "metadata": {},
   "outputs": [
    {
     "data": {
      "text/html": [
       "<ol class=list-inline>\n",
       "\t<li>30891</li>\n",
       "\t<li>17</li>\n",
       "</ol>\n"
      ],
      "text/latex": [
       "\\begin{enumerate*}\n",
       "\\item 30891\n",
       "\\item 17\n",
       "\\end{enumerate*}\n"
      ],
      "text/markdown": [
       "1. 30891\n",
       "2. 17\n",
       "\n",
       "\n"
      ],
      "text/plain": [
       "[1] 30891    17"
      ]
     },
     "metadata": {},
     "output_type": "display_data"
    }
   ],
   "source": [
    "### se dividen los datos en conjunto de entrenamiento y conjunto de prueba\n",
    "\n",
    "xtrain <- x[-muestra,]\n",
    "xtest <- x[muestra,]\n",
    "ytrain <- y[-muestra]\n",
    "ytest <- y[muestra]\n",
    "dim(xtrain)"
   ]
  },
  {
   "cell_type": "markdown",
   "metadata": {},
   "source": [
    "APLICACIÓN DE LA METODOLOGÍA 1: C50\n",
    "--"
   ]
  },
  {
   "cell_type": "code",
   "execution_count": 27,
   "metadata": {},
   "outputs": [
    {
     "data": {
      "text/plain": [
       "\n",
       "Call:\n",
       "C5.0.default(x = xtrain, y = ytrain)\n",
       "\n",
       "Classification Tree\n",
       "Number of samples: 30891 \n",
       "Number of predictors: 17 \n",
       "\n",
       "Tree size: 318 \n",
       "\n",
       "Non-standard options: attempt to group attributes\n"
      ]
     },
     "metadata": {},
     "output_type": "display_data"
    }
   ],
   "source": [
    "## se entrena el modelo, con un adaptative boosting, es decir, \n",
    "##se entrenan 50 árboles simultaneamente para aportar más precisión al modelo\n",
    "c50 <- C5.0(xtrain, ytrain)\n",
    "c50"
   ]
  },
  {
   "cell_type": "code",
   "execution_count": 28,
   "metadata": {},
   "outputs": [
    {
     "data": {
      "text/plain": [
       "\n",
       "Call:\n",
       "C5.0.default(x = xtrain, y = ytrain)\n",
       "\n",
       "\n",
       "C5.0 [Release 2.07 GPL Edition]  \tThu Apr 12 18:04:52 2018\n",
       "-------------------------------\n",
       "\n",
       "Class specified by attribute `outcome'\n",
       "\n",
       "Read 30891 cases (18 attributes) from undefined.data\n",
       "\n",
       "Decision tree:\n",
       "\n",
       "poutcome = success:\n",
       ":...duration <= 161:\n",
       ":   :...cons.conf.idx <= -41.8: no (73/3)\n",
       ":   :   cons.conf.idx > -41.8:\n",
       ":   :   :...contact = telephone: no (12/1)\n",
       ":   :       contact = cellular:\n",
       ":   :       :...month in {apr,jul,oct}: no (31/9)\n",
       ":   :           month in {mar,sep}: yes (31/12)\n",
       ":   :           month = dec:\n",
       ":   :           :...housing = no: yes (4/1)\n",
       ":   :           :   housing in {unknown,yes}: no (3)\n",
       ":   :           month = may:\n",
       ":   :           :...job in {admin.,blue-collar,entrepreneur,housemaid,\n",
       ":   :           :   :       management,self-employed,services,student,\n",
       ":   :           :   :       technician,unemployed,unknown}: no (3)\n",
       ":   :           :   job = retired: yes (1)\n",
       ":   :           month = aug:\n",
       ":   :           :...marital in {married,single}: no (40/13)\n",
       ":   :           :   marital in {divorced,unknown}:\n",
       ":   :           :   :...day_of_week in {fri,tue}: no (2)\n",
       ":   :           :       day_of_week in {mon,thu,wed}: yes (5)\n",
       ":   :           month = jun:\n",
       ":   :           :...duration <= 113: no (12/2)\n",
       ":   :           :   duration > 113:\n",
       ":   :           :   :...marital in {divorced,single,unknown}: yes (7/1)\n",
       ":   :           :       marital = married: no (3)\n",
       ":   :           month = nov:\n",
       ":   :           :...pdays > 4: no (4/1)\n",
       ":   :               pdays <= 4:\n",
       ":   :               :...campaign <= 2: yes (12)\n",
       ":   :                   campaign > 2: no (3/1)\n",
       ":   duration > 161:\n",
       ":   :...cons.conf.idx > -41.8: yes (606/109)\n",
       ":       cons.conf.idx <= -41.8:\n",
       ":       :...cons.price.idx > 93.876: yes (66/11)\n",
       ":           cons.price.idx <= 93.876:\n",
       ":           :...default in {unknown,yes}: no (9/1)\n",
       ":               default = no:\n",
       ":               :...job in {entrepreneur,housemaid,retired,self-employed,\n",
       ":                   :       student,unknown}: no (18/2)\n",
       ":                   job = services: yes (12/5)\n",
       ":                   job = blue-collar:\n",
       ":                   :...previous <= 1: no (24/9)\n",
       ":                   :   previous > 1: yes (3)\n",
       ":                   job = unemployed:\n",
       ":                   :...loan in {no,unknown}: yes (4)\n",
       ":                   :   loan = yes: no (1)\n",
       ":                   job = admin.:\n",
       ":                   :...day_of_week in {fri,wed}: yes (7)\n",
       ":                   :   day_of_week in {mon,thu,tue}:\n",
       ":                   :   :...month = apr: yes (5/1)\n",
       ":                   :       month in {aug,dec,jul,jun,mar,may,nov,oct,\n",
       ":                   :                 sep}: no (16/3)\n",
       ":                   job = management:\n",
       ":                   :...cons.conf.idx > -45.9: no (5/1)\n",
       ":                   :   cons.conf.idx <= -45.9:\n",
       ":                   :   :...loan in {no,unknown}: yes (5)\n",
       ":                   :       loan = yes: no (1)\n",
       ":                   job = technician:\n",
       ":                   :...day_of_week in {mon,thu}: yes (11/3)\n",
       ":                       day_of_week = tue: no (3)\n",
       ":                       day_of_week = fri:\n",
       ":                       :...loan in {no,unknown}: yes (3)\n",
       ":                       :   loan = yes: no (1)\n",
       ":                       day_of_week = wed:\n",
       ":                       :...marital = married: yes (2)\n",
       ":                           marital in {divorced,single,unknown}: no (2)\n",
       "poutcome in {failure,nonexistent}:\n",
       ":...duration <= 472:\n",
       "    :...cons.conf.idx > -36.1:\n",
       "    :   :...duration <= 123: no (405/33)\n",
       "    :   :   duration > 123:\n",
       "    :   :   :...pdays <= 13: yes (25/6)\n",
       "    :   :       pdays > 13:\n",
       "    :   :       :...duration <= 208: no (385/121)\n",
       "    :   :           duration > 208:\n",
       "    :   :           :...contact = telephone:\n",
       "    :   :               :...campaign > 4: no (9)\n",
       "    :   :               :   campaign <= 4:\n",
       "    :   :               :   :...job in {entrepreneur,housemaid,self-employed,\n",
       "    :   :               :       :       student,unknown}: no (11/1)\n",
       "    :   :               :       job = unemployed: yes (1)\n",
       "    :   :               :       job = admin.:\n",
       "    :   :               :       :...poutcome = failure: no (8/2)\n",
       "    :   :               :       :   poutcome = nonexistent: yes (15/4)\n",
       "    :   :               :       job = blue-collar:\n",
       "    :   :               :       :...poutcome = failure: yes (1)\n",
       "    :   :               :       :   poutcome = nonexistent: no (3)\n",
       "    :   :               :       job = management:\n",
       "    :   :               :       :...housing = no: yes (3)\n",
       "    :   :               :       :   housing in {unknown,yes}: no (5/1)\n",
       "    :   :               :       job = retired:\n",
       "    :   :               :       :...age <= 79: no (6)\n",
       "    :   :               :       :   age > 79: yes (2)\n",
       "    :   :               :       job = services:\n",
       "    :   :               :       :...age <= 37: yes (2)\n",
       "    :   :               :       :   age > 37: no (2)\n",
       "    :   :               :       job = technician:\n",
       "    :   :               :       :...age <= 40: yes (2)\n",
       "    :   :               :           age > 40: no (3)\n",
       "    :   :               contact = cellular:\n",
       "    :   :               :...cons.price.idx <= 92.201:\n",
       "    :   :                   :...job in {blue-collar,entrepreneur,\n",
       "    :   :                   :   :       housemaid}: yes (19/6)\n",
       "    :   :                   :   job in {management,unemployed,\n",
       "    :   :                   :   :       unknown}: no (26/7)\n",
       "    :   :                   :   job = retired:\n",
       "    :   :                   :   :...day_of_week in {fri,tue}: yes (10/1)\n",
       "    :   :                   :   :   day_of_week in {mon,thu,wed}: no (13/4)\n",
       "    :   :                   :   job = self-employed: [S1]\n",
       "    :   :                   :   job = services:\n",
       "    :   :                   :   :...housing in {no,unknown}: no (5)\n",
       "    :   :                   :   :   housing = yes: yes (3)\n",
       "    :   :                   :   job = student:\n",
       "    :   :                   :   :...day_of_week in {fri,mon,tue}: no (8/2)\n",
       "    :   :                   :   :   day_of_week in {thu,wed}: yes (5/1)\n",
       "    :   :                   :   job = technician:\n",
       "    :   :                   :   :...day_of_week in {fri,mon,tue}: no (6/1)\n",
       "    :   :                   :   :   day_of_week in {thu,wed}: yes (10/2)\n",
       "    :   :                   :   job = admin.:\n",
       "    :   :                   :   :...day_of_week = mon: yes (5/2)\n",
       "    :   :                   :       day_of_week = fri:\n",
       "    :   :                   :       :...age <= 37: yes (2)\n",
       "    :   :                   :       :   age > 37: no (2)\n",
       "    :   :                   :       day_of_week = thu:\n",
       "    :   :                   :       :...age <= 42: no (7)\n",
       "    :   :                   :       :   age > 42: yes (5)\n",
       "    :   :                   :       day_of_week = tue:\n",
       "    :   :                   :       :...poutcome = failure: yes (3/1)\n",
       "    :   :                   :       :   poutcome = nonexistent: no (6)\n",
       "    :   :                   :       day_of_week = wed:\n",
       "    :   :                   :       :...previous <= 0: yes (5)\n",
       "    :   :                   :           previous > 0: no (2)\n",
       "    :   :                   cons.price.idx > 92.201:\n",
       "    :   :                   :...day_of_week in {tue,wed}: yes (134/47)\n",
       "    :   :                       day_of_week = fri:\n",
       "    :   :                       :...month = dec: no (5/2)\n",
       "    :   :                       :   month in {aug,jun,mar,may,\n",
       "    :   :                       :   :         oct}: yes (29/2)\n",
       "    :   :                       :   month = apr:\n",
       "    :   :                       :   :...age <= 32: no (2)\n",
       "    :   :                       :   :   age > 32: yes (4)\n",
       "    :   :                       :   month = jul:\n",
       "    :   :                       :   :...poutcome = failure: no (1)\n",
       "    :   :                       :   :   poutcome = nonexistent: yes (6/1)\n",
       "    :   :                       :   month = nov:\n",
       "    :   :                       :   :...campaign <= 1: no (3/1)\n",
       "    :   :                       :   :   campaign > 1: yes (4)\n",
       "    :   :                       :   month = sep: [S2]\n",
       "    :   :                       day_of_week = mon:\n",
       "    :   :                       :...cons.price.idx > 93.444: no (5)\n",
       "    :   :                       :   cons.price.idx <= 93.444: [S3]\n",
       "    :   :                       day_of_week = thu:\n",
       "    :   :                       :...marital = unknown: yes (0)\n",
       "    :   :                           marital = divorced: no (12/3)\n",
       "    :   :                           marital in {married,single}: [S4]\n",
       "    :   cons.conf.idx <= -36.1:\n",
       "    :   :...pdays <= 27:\n",
       "    :       :...duration <= 169: no (14/1)\n",
       "    :       :   duration > 169:\n",
       "    :       :   :...marital in {divorced,married,unknown}: yes (18/4)\n",
       "    :       :       marital = single: no (12/4)\n",
       "    :       pdays > 27:\n",
       "    :       :...age > 60:\n",
       "    :           :...duration <= 138: no (70/6)\n",
       "    :           :   duration > 138:\n",
       "    :           :   :...education in {basic.6y,basic.9y}: no (4)\n",
       "    :           :       education in {illiterate,unknown}: yes (13/3)\n",
       "    :           :       education = basic.4y:\n",
       "    :           :       :...default in {no,yes}: yes (50/20)\n",
       "    :           :       :   default = unknown: no (6/1)\n",
       "    :           :       education = high.school:\n",
       "    :           :       :...duration <= 309: no (14/2)\n",
       "    :           :       :   duration > 309: yes (3)\n",
       "    :           :       education = professional.course:\n",
       "    :           :       :...campaign <= 3: yes (15/6)\n",
       "    :           :       :   campaign > 3: no (5)\n",
       "    :           :       education = university.degree:\n",
       "    :           :       :...contact = cellular: yes (22/8)\n",
       "    :           :           contact = telephone: no (3)\n",
       "    :           age <= 60:\n",
       "    :           :...cons.conf.idx > -47.1:\n",
       "    :               :...month in {apr,mar}: no (0)\n",
       "    :               :   month in {oct,sep}:\n",
       "    :               :   :...duration <= 84: no (38)\n",
       "    :               :   :   duration > 84:\n",
       "    :               :   :   :...month = oct: yes (29/2)\n",
       "    :               :   :       month = sep:\n",
       "    :               :   :       :...duration <= 171: no (27)\n",
       "    :               :   :           duration > 171:\n",
       "    :               :   :           :...job in {admin.,services,\n",
       "    :               :   :               :       unemployed}: yes (25/8)\n",
       "    :               :   :               job in {blue-collar,entrepreneur,\n",
       "    :               :   :               :       housemaid,retired,\n",
       "    :               :   :               :       self-employed,student,\n",
       "    :               :   :               :       unknown}: no (10)\n",
       "    :               :   :               job = management: [S5]\n",
       "    :               :   :               job = technician:\n",
       "    :               :   :               :...marital = married: no (6/1)\n",
       "    :               :   :                   marital in {divorced,single,\n",
       "    :               :   :                               unknown}: yes (13/3)\n",
       "    :               :   month in {aug,dec,jul,jun,may,nov}:\n",
       "    :               :   :...cons.price.idx <= 93.075:\n",
       "    :               :       :...cons.price.idx <= 92.893: no (3648/94)\n",
       "    :               :       :   cons.price.idx > 92.893:\n",
       "    :               :       :   :...duration <= 154: no (181/25)\n",
       "    :               :       :       duration > 154:\n",
       "    :               :       :       :...day_of_week = mon: no (66/24)\n",
       "    :               :       :           day_of_week = thu: yes (20/5)\n",
       "    :               :       :           day_of_week = fri:\n",
       "    :               :       :           :...loan in {no,unknown}: yes (28/10)\n",
       "    :               :       :           :   loan = yes: no (3)\n",
       "    :               :       :           day_of_week = wed:\n",
       "    :               :       :           :...age <= 34: yes (26/10)\n",
       "    :               :       :           :   age > 34: no (18/5)\n",
       "    :               :       :           day_of_week = tue: [S6]\n",
       "    :               :       cons.price.idx > 93.075:\n",
       "    :               :       :...poutcome = failure:\n",
       "    :               :           :...duration <= 178: no (377/4)\n",
       "    :               :           :   duration > 178:\n",
       "    :               :           :   :...cons.price.idx <= 93.444: no (143/1)\n",
       "    :               :           :       cons.price.idx > 93.444:\n",
       "    :               :           :       :...cons.price.idx <= 94.055: no (35/9)\n",
       "    :               :           :           cons.price.idx > 94.055: yes (27/7)\n",
       "    :               :           poutcome = nonexistent:\n",
       "    :               :           :...duration <= 289: no (14943/53)\n",
       "    :               :               duration > 289:\n",
       "    :               :               :...contact = telephone: no (1609/25)\n",
       "    :               :                   contact = cellular:\n",
       "    :               :                   :...cons.price.idx > 93.918: yes (31/4)\n",
       "    :               :                       cons.price.idx <= 93.918:\n",
       "    :               :                       :...month in {aug,dec,jul,jun,\n",
       "    :               :                           :         nov}: no (1306/41)\n",
       "    :               :                           month = may: yes (9/3)\n",
       "    :               cons.conf.idx <= -47.1:\n",
       "    :               :...cons.price.idx <= 92.893:\n",
       "    :                   :...duration <= 94: no (45/3)\n",
       "    :                   :   duration > 94:\n",
       "    :                   :   :...marital = divorced: yes (2)\n",
       "    :                   :       marital = unknown: no (1)\n",
       "    :                   :       marital = single:\n",
       "    :                   :       :...duration <= 186: no (36/9)\n",
       "    :                   :       :   duration > 186: yes (31/8)\n",
       "    :                   :       marital = married:\n",
       "    :                   :       :...default = yes: yes (0)\n",
       "    :                   :           default = unknown:\n",
       "    :                   :           :...housing = unknown: yes (1)\n",
       "    :                   :           :   housing in {no,yes}: no (3)\n",
       "    :                   :           default = no:\n",
       "    :                   :           :...housing = no: yes (15/2)\n",
       "    :                   :               housing = unknown: no (1)\n",
       "    :                   :               housing = yes:\n",
       "    :                   :               :...previous <= 0: yes (25/7)\n",
       "    :                   :                   previous > 0: no (2)\n",
       "    :                   cons.price.idx > 92.893:\n",
       "    :                   :...default in {unknown,yes}: no (214/1)\n",
       "    :                       default = no:\n",
       "    :                       :...duration <= 106: no (328/5)\n",
       "    :                           duration > 106:\n",
       "    :                           :...age <= 30: [S7]\n",
       "    :                               age > 30:\n",
       "    :                               :...day_of_week in {fri,\n",
       "    :                                   :               mon}: no (400/24)\n",
       "    :                                   day_of_week in {thu,tue,wed}:\n",
       "    :                                   :...previous > 0: no (103/7)\n",
       "    :                                       previous <= 0:\n",
       "    :                                       :...cons.price.idx > 94.601:\n",
       "    :                                           :...campaign <= 2: yes (12/3)\n",
       "    :                                           :   campaign > 2: no (2)\n",
       "    :                                           cons.price.idx <= 94.601:\n",
       "    :                                           :...duration <= 315: no (182/32)\n",
       "    :                                               duration > 315: [S8]\n",
       "    duration > 472:\n",
       "    :...duration <= 644:\n",
       "        :...cons.conf.idx <= -36.1:\n",
       "        :   :...month = dec: no (0)\n",
       "        :   :   month in {mar,oct,sep}:\n",
       "        :   :   :...poutcome = nonexistent: yes (13/2)\n",
       "        :   :   :   poutcome = failure:\n",
       "        :   :   :   :...marital = divorced: yes (2)\n",
       "        :   :   :       marital in {married,single,unknown}: no (4)\n",
       "        :   :   month in {apr,aug,jul,jun,may,nov}:\n",
       "        :   :   :...contact = telephone: no (576/74)\n",
       "        :   :       contact = cellular:\n",
       "        :   :       :...cons.price.idx > 93.918: yes (31/10)\n",
       "        :   :           cons.price.idx <= 93.918:\n",
       "        :   :           :...month in {apr,aug,jul,may,nov}: no (971/249)\n",
       "        :   :               month = jun:\n",
       "        :   :               :...education in {basic.4y,professional.course,\n",
       "        :   :                   :             unknown}: no (7/1)\n",
       "        :   :                   education in {basic.6y,basic.9y,high.school,\n",
       "        :   :                                 illiterate,\n",
       "        :   :                                 university.degree}: yes (20/2)\n",
       "        :   cons.conf.idx > -36.1:\n",
       "        :   :...cons.price.idx > 92.649:\n",
       "        :       :...previous <= 1: yes (26/4)\n",
       "        :       :   previous > 1: no (2)\n",
       "        :       cons.price.idx <= 92.649:\n",
       "        :       :...education in {basic.4y,basic.9y}: yes (11/2)\n",
       "        :           education in {basic.6y,high.school,\n",
       "        :           :             illiterate}: no (17/4)\n",
       "        :           education = unknown:\n",
       "        :           :...contact = cellular: yes (4)\n",
       "        :           :   contact = telephone: no (2)\n",
       "        :           education = professional.course:\n",
       "        :           :...day_of_week in {fri,wed}: yes (5/1)\n",
       "        :           :   day_of_week in {mon,thu}: no (3)\n",
       "        :           :   day_of_week = tue:\n",
       "        :           :   :...poutcome = failure: yes (1)\n",
       "        :           :       poutcome = nonexistent: no (3)\n",
       "        :           education = university.degree:\n",
       "        :           :...housing = unknown: no (0)\n",
       "        :               housing = yes:\n",
       "        :               :...campaign <= 2: no (11)\n",
       "        :               :   campaign > 2: yes (3/1)\n",
       "        :               housing = no:\n",
       "        :               :...previous > 0: no (7/2)\n",
       "        :                   previous <= 0:\n",
       "        :                   :...campaign <= 1: yes (4)\n",
       "        :                       campaign > 1: no (3/1)\n",
       "        duration > 644:\n",
       "        :...duration > 837:\n",
       "            :...contact = cellular:\n",
       "            :   :...month in {jul,jun,mar,may,sep}: yes (415/140)\n",
       "            :   :   month = oct: no (9/2)\n",
       "            :   :   month = dec:\n",
       "            :   :   :...age <= 52: yes (2)\n",
       "            :   :   :   age > 52: no (2)\n",
       "            :   :   month = nov:\n",
       "            :   :   :...job in {entrepreneur,housemaid,management,\n",
       "            :   :   :   :       self-employed,services,student,technician,\n",
       "            :   :   :   :       unknown}: no (54/22)\n",
       "            :   :   :   job = unemployed: yes (3/1)\n",
       "            :   :   :   job = admin.:\n",
       "            :   :   :   :...previous <= 0: yes (26/8)\n",
       "            :   :   :   :   previous > 0: no (4)\n",
       "            :   :   :   job = blue-collar:\n",
       "            :   :   :   :...age <= 47: no (9/3)\n",
       "            :   :   :   :   age > 47: yes (4)\n",
       "            :   :   :   job = retired:\n",
       "            :   :   :   :...age <= 56: no (2)\n",
       "            :   :   :       age > 56: yes (2)\n",
       "            :   :   month = apr:\n",
       "            :   :   :...loan = unknown: yes (3)\n",
       "            :   :   :   loan = yes: no (12/5)\n",
       "            :   :   :   loan = no:\n",
       "            :   :   :   :...housing in {no,unknown}: yes (23/2)\n",
       "            :   :   :       housing = yes:\n",
       "            :   :   :       :...campaign <= 3: yes (39/12)\n",
       "            :   :   :           campaign > 3: no (4)\n",
       "            :   :   month = aug:\n",
       "            :   :   :...campaign > 2: yes (58/13)\n",
       "            :   :       campaign <= 2:\n",
       "            :   :       :...loan = yes: no (12/2)\n",
       "            :   :           loan in {no,unknown}:\n",
       "            :   :           :...cons.price.idx <= 92.756: no (8/2)\n",
       "            :   :               cons.price.idx > 92.756: yes (68/22)\n",
       "            :   contact = telephone:\n",
       "            :   :...month in {apr,dec,jun,mar,sep}: yes (122/52)\n",
       "            :       month = aug: no (2/1)\n",
       "            :       month = nov:\n",
       "            :       :...day_of_week in {fri,thu}: yes (5)\n",
       "            :       :   day_of_week in {mon,tue,wed}: no (7/1)\n",
       "            :       month = oct:\n",
       "            :       :...marital in {divorced,single}: yes (4/1)\n",
       "            :       :   marital in {married,unknown}: no (3)\n",
       "            :       month = jul:\n",
       "            :       :...job in {admin.,entrepreneur,management,student,\n",
       "            :       :   :       unemployed,unknown}: yes (6/1)\n",
       "            :       :   job in {housemaid,retired,self-employed,services,\n",
       "            :       :   :       technician}: no (12/3)\n",
       "            :       :   job = blue-collar:\n",
       "            :       :   :...campaign <= 2: yes (6)\n",
       "            :       :       campaign > 2: no (3/1)\n",
       "            :       month = may:\n",
       "            :       :...job in {entrepreneur,technician}: yes (36/15)\n",
       "            :           job in {retired,self-employed,unknown}: no (7/1)\n",
       "            :           job = blue-collar:\n",
       "            :           :...duration <= 1226: no (37/12)\n",
       "            :           :   duration > 1226: yes (17/4)\n",
       "            :           job = housemaid:\n",
       "            :           :...marital in {divorced,married,unknown}: yes (3)\n",
       "            :           :   marital = single: no (1)\n",
       "            :           job = management:\n",
       "            :           :...campaign <= 1: yes (5/1)\n",
       "            :           :   campaign > 1: no (5)\n",
       "            :           job = student:\n",
       "            :           :...loan in {no,unknown}: no (4)\n",
       "            :           :   loan = yes: yes (1)\n",
       "            :           job = unemployed:\n",
       "            :           :...marital = divorced: yes (1)\n",
       "            :           :   marital in {married,single,unknown}: no (3)\n",
       "            :           job = admin.:\n",
       "            :           :...marital = divorced: yes (4/1)\n",
       "            :           :   marital in {married,unknown}: no (18/5)\n",
       "            :           :   marital = single:\n",
       "            :           :   :...age <= 29: no (4)\n",
       "            :           :       age > 29: yes (9/1)\n",
       "            :           job = services:\n",
       "            :           :...education in {basic.9y,professional.course,\n",
       "            :               :             unknown}: yes (3)\n",
       "            :               education in {basic.4y,high.school,illiterate,\n",
       "            :               :             university.degree}: no (24/7)\n",
       "            :               education = basic.6y:\n",
       "            :               :...housing = no: yes (3)\n",
       "            :                   housing in {unknown,yes}: no (3)\n",
       "            duration <= 837:\n",
       "            :...cons.price.idx <= 92.963:\n",
       "                :...default in {no,yes}: yes (178/64)\n",
       "                :   default = unknown:\n",
       "                :   :...cons.price.idx <= 92.649: yes (3)\n",
       "                :       cons.price.idx > 92.649: no (32/7)\n",
       "                cons.price.idx > 92.963:\n",
       "                :...default in {unknown,yes}: no (180/50)\n",
       "                    default = no:\n",
       "                    :...contact = telephone: no (244/78)\n",
       "                        contact = cellular:\n",
       "                        :...cons.price.idx > 93.918: yes (26/7)\n",
       "                            cons.price.idx <= 93.918:\n",
       "                            :...education in {basic.4y,basic.6y,illiterate,\n",
       "                                :             unknown}: no (52/10)\n",
       "                                education in {basic.9y,high.school,\n",
       "                                :             professional.course,\n",
       "                                :             university.degree}:\n",
       "                                :...previous > 0: no (25/6)\n",
       "                                    previous <= 0:\n",
       "                                    :...month in {dec,jun,mar,oct,\n",
       "                                        :         sep}: no (2/1)\n",
       "                                        month = may: yes (4)\n",
       "                                        month = aug:\n",
       "                                        :...day_of_week in {mon,\n",
       "                                        :   :               wed}: yes (28/10)\n",
       "                                        :   day_of_week = tue: no (17/6)\n",
       "                                        :   day_of_week = fri:\n",
       "                                        :   :...duration <= 772: no (4)\n",
       "                                        :   :   duration > 772: yes (2)\n",
       "                                        :   day_of_week = thu:\n",
       "                                        :   :...duration <= 724: no (3)\n",
       "                                        :       duration > 724: yes (7/2)\n",
       "                                        month = nov:\n",
       "                                        :...day_of_week = thu: yes (11/3)\n",
       "                                        :   day_of_week = fri: [S9]\n",
       "                                        :   day_of_week = mon:\n",
       "                                        :   :...loan in {no,unknown}: no (3)\n",
       "                                        :   :   loan = yes: yes (1)\n",
       "                                        :   day_of_week = tue: [S10]\n",
       "                                        :   day_of_week = wed:\n",
       "                                        :   :...duration <= 781: no (13/2)\n",
       "                                        :       duration > 781: yes (4)\n",
       "                                        month = apr:\n",
       "                                        :...job in {entrepreneur,management,\n",
       "                                        :   :       services}: no (9/2)\n",
       "                                        :   job in {housemaid,retired,\n",
       "                                        :   :       self-employed,student,\n",
       "                                        :   :       technician,unemployed,\n",
       "                                        :   :       unknown}: yes (14/2)\n",
       "                                        :   job = blue-collar: [S11]\n",
       "                                        :   job = admin.: [S12]\n",
       "                                        month = jul:\n",
       "                                        :...job in {entrepreneur,housemaid,\n",
       "                                            :       management,self-employed,\n",
       "                                            :       student,technician,\n",
       "                                            :       unemployed,\n",
       "                                            :       unknown}: no (45/11)\n",
       "                                            job in {retired,\n",
       "                                            :       services}: yes (21/8)\n",
       "                                            job = admin.:\n",
       "                                            :...housing = unknown: no (0)\n",
       "                                            :   housing = no: yes (19/7)\n",
       "                                            :   housing = yes: [S13]\n",
       "                                            job = blue-collar:\n",
       "                                            :...loan = unknown: yes (0)\n",
       "                                                loan = yes: no (2)\n",
       "                                                loan = no: [S14]\n",
       "\n",
       "SubTree [S1]\n",
       "\n",
       "education = high.school: yes (1)\n",
       "education in {basic.4y,basic.6y,basic.9y,illiterate,professional.course,\n",
       "              university.degree,unknown}: no (3)\n",
       "\n",
       "SubTree [S2]\n",
       "\n",
       "education = high.school: yes (6/1)\n",
       "education in {basic.4y,basic.6y,basic.9y,illiterate,professional.course,\n",
       "              university.degree,unknown}: no (7)\n",
       "\n",
       "SubTree [S3]\n",
       "\n",
       "education in {basic.6y,basic.9y,high.school,illiterate}: yes (18/5)\n",
       "education = professional.course: no (6/2)\n",
       "education = basic.4y:\n",
       ":...cons.conf.idx <= -33: no (3)\n",
       ":   cons.conf.idx > -33: yes (2)\n",
       "education = university.degree:\n",
       ":...cons.price.idx <= 92.963: no (17/5)\n",
       ":   cons.price.idx > 92.963: yes (4/1)\n",
       "education = unknown:\n",
       ":...poutcome = failure: yes (5)\n",
       "    poutcome = nonexistent: no (1)\n",
       "\n",
       "SubTree [S4]\n",
       "\n",
       "education in {basic.9y,high.school,illiterate,\n",
       ":             university.degree}: yes (44/10)\n",
       "education in {professional.course,unknown}: no (9/3)\n",
       "education = basic.4y:\n",
       ":...cons.price.idx <= 92.649: no (3)\n",
       ":   cons.price.idx > 92.649: yes (2)\n",
       "education = basic.6y:\n",
       ":...job in {admin.,blue-collar,entrepreneur,housemaid,management,self-employed,\n",
       "    :       services,student,technician,unemployed,unknown}: no (3)\n",
       "    job = retired: yes (1)\n",
       "\n",
       "SubTree [S5]\n",
       "\n",
       "poutcome = failure: no (3)\n",
       "poutcome = nonexistent: yes (1)\n",
       "\n",
       "SubTree [S6]\n",
       "\n",
       "education in {basic.4y,basic.6y,high.school,illiterate,professional.course,\n",
       ":             university.degree,unknown}: no (57/24)\n",
       "education = basic.9y:\n",
       ":...marital in {divorced,married,unknown}: yes (6/1)\n",
       "    marital = single: no (2)\n",
       "\n",
       "SubTree [S7]\n",
       "\n",
       "education in {basic.4y,basic.6y,basic.9y,high.school,illiterate,\n",
       ":             professional.course}: no (100/26)\n",
       "education = unknown:\n",
       ":...month in {aug,dec,jul,jun,mar,may,nov,sep}: yes (0)\n",
       ":   month = oct: no (3)\n",
       ":   month = apr:\n",
       ":   :...age <= 24: yes (9/1)\n",
       ":       age > 24: no (2)\n",
       "education = university.degree:\n",
       ":...job in {blue-collar,unemployed}: yes (4)\n",
       "    job in {entrepreneur,housemaid,retired,services,student,\n",
       "    :       unknown}: no (11/1)\n",
       "    job = management:\n",
       "    :...campaign <= 1: yes (2)\n",
       "    :   campaign > 1: no (3)\n",
       "    job = self-employed:\n",
       "    :...duration <= 207: no (8)\n",
       "    :   duration > 207: yes (6/1)\n",
       "    job = technician:\n",
       "    :...housing = no: no (6)\n",
       "    :   housing = unknown: yes (1)\n",
       "    :   housing = yes:\n",
       "    :   :...day_of_week in {fri,mon,thu,tue}: no (3)\n",
       "    :       day_of_week = wed: yes (2)\n",
       "    job = admin.:\n",
       "    :...cons.price.idx > 93.798: no (3)\n",
       "        cons.price.idx <= 93.798:\n",
       "        :...loan = no: yes (27/7)\n",
       "            loan = unknown: no (1)\n",
       "            loan = yes:\n",
       "            :...duration <= 149: yes (2)\n",
       "                duration > 149: no (4)\n",
       "\n",
       "SubTree [S8]\n",
       "\n",
       "education in {basic.4y,basic.6y,university.degree}: yes (34/13)\n",
       "education in {basic.9y,illiterate,unknown}: no (10/1)\n",
       "education = high.school:\n",
       ":...day_of_week = thu: yes (14/6)\n",
       ":   day_of_week in {tue,wed}: no (5)\n",
       "education = professional.course:\n",
       ":...age <= 49: no (6/1)\n",
       "    age > 49: yes (3)\n",
       "\n",
       "SubTree [S9]\n",
       "\n",
       "education in {basic.9y,high.school}: yes (5/1)\n",
       "education in {professional.course,university.degree}: no (7/1)\n",
       "\n",
       "SubTree [S10]\n",
       "\n",
       "marital in {divorced,married,unknown}: no (4)\n",
       "marital = single: yes (1)\n",
       "\n",
       "SubTree [S11]\n",
       "\n",
       "marital in {divorced,married,unknown}: no (3)\n",
       "marital = single: yes (1)\n",
       "\n",
       "SubTree [S12]\n",
       "\n",
       "housing = unknown: yes (1)\n",
       "housing = yes:\n",
       ":...day_of_week = fri: no (1)\n",
       ":   day_of_week in {mon,thu,tue,wed}: yes (4)\n",
       "housing = no:\n",
       ":...campaign > 1: no (3)\n",
       "    campaign <= 1:\n",
       "    :...duration <= 674: no (2)\n",
       "        duration > 674: yes (3)\n",
       "\n",
       "SubTree [S13]\n",
       "\n",
       "loan in {no,unknown}: no (17/5)\n",
       "loan = yes: yes (1)\n",
       "\n",
       "SubTree [S14]\n",
       "\n",
       "education in {high.school,university.degree}: yes (2)\n",
       "education = professional.course: no (2)\n",
       "education = basic.9y:\n",
       ":...age > 32: yes (6)\n",
       "    age <= 32:\n",
       "    :...duration <= 690: yes (3)\n",
       "        duration > 690: no (5)\n",
       "\n",
       "\n",
       "Evaluation on training data (30891 cases):\n",
       "\n",
       "\t    Decision Tree   \n",
       "\t  ----------------  \n",
       "\t  Size      Errors  \n",
       "\n",
       "\t   310 2016( 6.5%)   <<\n",
       "\n",
       "\n",
       "\t   (a)   (b)    <-classified as\n",
       "\t  ----  ----\n",
       "\t 26629   775    (a): class no\n",
       "\t  1241  2246    (b): class yes\n",
       "\n",
       "\n",
       "\tAttribute usage:\n",
       "\n",
       "\t100.00%\tduration\n",
       "\t100.00%\tpoutcome\n",
       "\t 93.08%\tcons.conf.idx\n",
       "\t 87.77%\tcons.price.idx\n",
       "\t 84.07%\tmonth\n",
       "\t 82.85%\tpdays\n",
       "\t 79.80%\tage\n",
       "\t 22.86%\tcontact\n",
       "\t  8.95%\tdefault\n",
       "\t  5.25%\tday_of_week\n",
       "\t  3.54%\teducation\n",
       "\t  3.12%\tjob\n",
       "\t  2.62%\tprevious\n",
       "\t  1.21%\tmarital\n",
       "\t  1.20%\tcampaign\n",
       "\t  0.96%\tloan\n",
       "\t  0.75%\thousing\n",
       "\n",
       "\n",
       "Time: 0.4 secs\n"
      ]
     },
     "metadata": {},
     "output_type": "display_data"
    }
   ],
   "source": [
    "summary(c50)"
   ]
  },
  {
   "cell_type": "code",
   "execution_count": 29,
   "metadata": {},
   "outputs": [
    {
     "name": "stdout",
     "output_type": "stream",
     "text": [
      "\n",
      " \n",
      "   Cell Contents\n",
      "|-------------------------|\n",
      "|                       N |\n",
      "| Chi-square contribution |\n",
      "|           N / Row Total |\n",
      "|           N / Col Total |\n",
      "|         N / Table Total |\n",
      "|-------------------------|\n",
      "\n",
      " \n",
      "Total Observations in Table:  10297 \n",
      "\n",
      " \n",
      "             | ytestpred \n",
      "       ytest |        no |       yes | Row Total | \n",
      "-------------|-----------|-----------|-----------|\n",
      "          no |      8759 |       385 |      9144 | \n",
      "             |    25.543 |   250.732 |           | \n",
      "             |     0.958 |     0.042 |     0.888 | \n",
      "             |     0.937 |     0.404 |           | \n",
      "             |     0.851 |     0.037 |           | \n",
      "-------------|-----------|-----------|-----------|\n",
      "         yes |       586 |       567 |      1153 | \n",
      "             |   202.569 |  1988.455 |           | \n",
      "             |     0.508 |     0.492 |     0.112 | \n",
      "             |     0.063 |     0.596 |           | \n",
      "             |     0.057 |     0.055 |           | \n",
      "-------------|-----------|-----------|-----------|\n",
      "Column Total |      9345 |       952 |     10297 | \n",
      "             |     0.908 |     0.092 |           | \n",
      "-------------|-----------|-----------|-----------|\n",
      "\n",
      " \n"
     ]
    }
   ],
   "source": [
    "### se evalua el modelo con los datos de testing\n",
    "ytestpred <- predict(c50, xtest)\n",
    "CrossTable(ytest,ytestpred)"
   ]
  },
  {
   "cell_type": "markdown",
   "metadata": {},
   "source": [
    "APLICACIÓN DE LA METODOLOGÍA 2: NAIVE BAYES\n",
    "--"
   ]
  },
  {
   "cell_type": "code",
   "execution_count": 30,
   "metadata": {},
   "outputs": [
    {
     "data": {
      "text/plain": [
       "        Length Class  Mode     \n",
       "apriori  2     table  numeric  \n",
       "tables  17     -none- list     \n",
       "levels   2     -none- character\n",
       "call     3     -none- call     "
      ]
     },
     "metadata": {},
     "output_type": "display_data"
    }
   ],
   "source": [
    "## se entrena el modelo\n",
    "\n",
    "bayes <- naiveBayes(xtrain, ytrain)\n",
    "summary(bayes)"
   ]
  },
  {
   "cell_type": "code",
   "execution_count": 31,
   "metadata": {
    "collapsed": true
   },
   "outputs": [],
   "source": [
    "## se pronostica con los datos de testing\n",
    "ytestpred1 <- predict(bayes, xtest)\n",
    "#head(ytestpred1)"
   ]
  },
  {
   "cell_type": "code",
   "execution_count": 32,
   "metadata": {},
   "outputs": [
    {
     "data": {
      "text/plain": [
       "     ytestpred1\n",
       "ytest   no  yes\n",
       "  no  8615  529\n",
       "  yes  646  507"
      ]
     },
     "metadata": {},
     "output_type": "display_data"
    }
   ],
   "source": [
    "## se calcula la matriz de confusión\n",
    "table(ytest, ytestpred1)"
   ]
  },
  {
   "cell_type": "markdown",
   "metadata": {},
   "source": [
    "APLICACIÓN DE LA METODOLOGÍA 3: OneR\n",
    "--"
   ]
  },
  {
   "cell_type": "code",
   "execution_count": 33,
   "metadata": {},
   "outputs": [
    {
     "name": "stderr",
     "output_type": "stream",
     "text": [
      "Warning message in OneR.data.frame(x = data, ties.method = ties.method, verbose = verbose, :\n",
      "\"data contains unused factor levels\""
     ]
    },
    {
     "name": "stdout",
     "output_type": "stream",
     "text": [
      "\n",
      "    Attribute      Accuracy\n",
      "1 * pdays          89.77%  \n",
      "2   poutcome       89.76%  \n",
      "3   duration       89.18%  \n",
      "4   previous       88.87%  \n",
      "5   month          88.75%  \n",
      "6   age            88.71%  \n",
      "6   job            88.71%  \n",
      "6   marital        88.71%  \n",
      "6   education      88.71%  \n",
      "6   default        88.71%  \n",
      "6   housing        88.71%  \n",
      "6   loan           88.71%  \n",
      "6   contact        88.71%  \n",
      "6   day_of_week    88.71%  \n",
      "6   campaign       88.71%  \n",
      "6   cons.price.idx 88.71%  \n",
      "6   cons.conf.idx  88.71%  \n",
      "---\n",
      "Chosen attribute due to accuracy\n",
      "and ties method (if applicable): '*'\n",
      "\n"
     ]
    },
    {
     "data": {
      "text/plain": [
       "\n",
       "Call:\n",
       "OneR.formula(formula = ytrain ~ ., data = xtrain, verbose = TRUE)\n",
       "\n",
       "Rules:\n",
       "If pdays = (-0.999,200] then ytrain = yes\n",
       "If pdays = (799,1e+03]  then ytrain = no\n",
       "\n",
       "Accuracy:\n",
       "27732 of 30891 instances classified correctly (89.77%)\n"
      ]
     },
     "metadata": {},
     "output_type": "display_data"
    }
   ],
   "source": [
    "## se entrena el modelo\n",
    "\n",
    "or <- OneR(ytrain ~ ., data = xtrain, verbose = TRUE)\n",
    "or"
   ]
  },
  {
   "cell_type": "code",
   "execution_count": 34,
   "metadata": {},
   "outputs": [
    {
     "name": "stdout",
     "output_type": "stream",
     "text": [
      "\n",
      "Call:\n",
      "OneR.formula(formula = ytrain ~ ., data = xtrain, verbose = TRUE)\n",
      "\n",
      "Rules:\n",
      "If pdays = (-0.999,200] then ytrain = yes\n",
      "If pdays = (799,1e+03]  then ytrain = no\n",
      "\n",
      "Accuracy:\n",
      "27732 of 30891 instances classified correctly (89.77%)\n",
      "\n",
      "Contingency table:\n",
      "      pdays\n",
      "ytrain (-0.999,200] (799,1e+03]   Sum\n",
      "   no           414     * 26990 27404\n",
      "   yes        * 742        2745  3487\n",
      "   Sum         1156       29735 30891\n",
      "---\n",
      "Maximum in each column: '*'\n",
      "\n",
      "Pearson's Chi-squared test:\n",
      "X-squared = 3350.4, df = 1, p-value < 2.2e-16\n",
      "\n"
     ]
    }
   ],
   "source": [
    "summary(or)"
   ]
  },
  {
   "cell_type": "code",
   "execution_count": 35,
   "metadata": {
    "collapsed": true
   },
   "outputs": [],
   "source": [
    "## se pronostica con los datos de pronostico\n",
    "ytestpred2 <- predict(or, xtest)"
   ]
  },
  {
   "cell_type": "code",
   "execution_count": 36,
   "metadata": {},
   "outputs": [
    {
     "data": {
      "text/plain": [
       "     ytestpred2\n",
       "ytest   no  yes\n",
       "  no  9010  134\n",
       "  yes  928  225"
      ]
     },
     "metadata": {},
     "output_type": "display_data"
    }
   ],
   "source": [
    "### se obtiene la matriz de confusión\n",
    "table(ytest, ytestpred2)"
   ]
  },
  {
   "cell_type": "markdown",
   "metadata": {},
   "source": [
    "APLICACIÓN DE LA METODOLOGÍA 4: RANDOM FOREST\n",
    "--"
   ]
  },
  {
   "cell_type": "code",
   "execution_count": 37,
   "metadata": {},
   "outputs": [
    {
     "data": {
      "text/plain": [
       "\n",
       "Call:\n",
       " randomForest(formula = ytrain ~ ., data = xtrain) \n",
       "               Type of random forest: classification\n",
       "                     Number of trees: 500\n",
       "No. of variables tried at each split: 4\n",
       "\n",
       "        OOB estimate of  error rate: 8.64%\n",
       "Confusion matrix:\n",
       "       no  yes class.error\n",
       "no  26364 1040  0.03795066\n",
       "yes  1630 1857  0.46745053"
      ]
     },
     "metadata": {},
     "output_type": "display_data"
    }
   ],
   "source": [
    "### se entrena el modelo\n",
    "set.seed(500)\n",
    "rf <- randomForest(ytrain ~ ., data = xtrain)\n",
    "rf"
   ]
  },
  {
   "cell_type": "code",
   "execution_count": 38,
   "metadata": {
    "collapsed": true
   },
   "outputs": [],
   "source": [
    "## se obtiene el pronostico con los datos de testing\n",
    "ytestpred4 <- predict(rf, xtest)"
   ]
  },
  {
   "cell_type": "code",
   "execution_count": 39,
   "metadata": {},
   "outputs": [
    {
     "data": {
      "text/plain": [
       "     ytestpred4\n",
       "ytest   no  yes\n",
       "  no  8788  356\n",
       "  yes  565  588"
      ]
     },
     "metadata": {},
     "output_type": "display_data"
    }
   ],
   "source": [
    "### se obtiene la matriz de confusión\n",
    "table(ytest, ytestpred4)"
   ]
  },
  {
   "cell_type": "markdown",
   "metadata": {
    "collapsed": true
   },
   "source": [
    "COMPARACIÓN DE LOS MODELOS\n",
    "--\n",
    "Para la comparación de los modelos se utilizarán las métricas:\n",
    "1. Accuracy\n",
    "2. Sensibilidad\n",
    "3. Especificidad\n",
    "4. Classification Error"
   ]
  },
  {
   "cell_type": "code",
   "execution_count": 40,
   "metadata": {},
   "outputs": [
    {
     "data": {
      "text/html": [
       "<table>\n",
       "<thead><tr><th scope=col>modelo</th><th scope=col>accuracy</th></tr></thead>\n",
       "<tbody>\n",
       "\t<tr><td>C50      </td><td>0.9057007</td></tr>\n",
       "\t<tr><td>NB       </td><td>0.8858891</td></tr>\n",
       "\t<tr><td>OR       </td><td>0.8968632</td></tr>\n",
       "\t<tr><td>RF       </td><td>0.9105565</td></tr>\n",
       "</tbody>\n",
       "</table>\n"
      ],
      "text/latex": [
       "\\begin{tabular}{r|ll}\n",
       " modelo & accuracy\\\\\n",
       "\\hline\n",
       "\t C50       & 0.9057007\\\\\n",
       "\t NB        & 0.8858891\\\\\n",
       "\t OR        & 0.8968632\\\\\n",
       "\t RF        & 0.9105565\\\\\n",
       "\\end{tabular}\n"
      ],
      "text/markdown": [
       "\n",
       "modelo | accuracy | \n",
       "|---|---|---|---|\n",
       "| C50       | 0.9057007 | \n",
       "| NB        | 0.8858891 | \n",
       "| OR        | 0.8968632 | \n",
       "| RF        | 0.9105565 | \n",
       "\n",
       "\n"
      ],
      "text/plain": [
       "  modelo accuracy \n",
       "1 C50    0.9057007\n",
       "2 NB     0.8858891\n",
       "3 OR     0.8968632\n",
       "4 RF     0.9105565"
      ]
     },
     "metadata": {},
     "output_type": "display_data"
    }
   ],
   "source": [
    "#### SE CALCULA ACCURACY PARA LOS MODELOS\n",
    "###C50\n",
    "ac1 <-accuracy(ytest,ytestpred)\n",
    "\n",
    "###Naive Bayes\n",
    "ac2 <- accuracy(ytest,ytestpred1)\n",
    "\n",
    "###OneR\n",
    "ac3<-accuracy(ytest,ytestpred2)\n",
    "\n",
    "###Random Forest\n",
    "ac4<-accuracy(ytest,ytestpred4)\n",
    "\n",
    "accuracy<-c(ac1,ac2,ac3,ac4)\n",
    "modelo<-c(\"C50\",\"NB\",\"OR\",\"RF\")\n",
    "df<-data.frame(modelo,accuracy)\n",
    "df"
   ]
  },
  {
   "cell_type": "markdown",
   "metadata": {},
   "source": [
    "De acuerdo a la medida de accuracy obtenida para cada modelo se puede decir que el modelo que mejor predice es random forest con 0,91 en esta medida, sin embargo todos los modelos tienen una buena medida excepto Naive Bayes, pues es el unico por debajo del pronóstico ingenuo (0,887)."
   ]
  },
  {
   "cell_type": "code",
   "execution_count": 41,
   "metadata": {},
   "outputs": [
    {
     "data": {
      "text/html": [
       "<table>\n",
       "<thead><tr><th scope=col>modelo</th><th scope=col>sen</th></tr></thead>\n",
       "<tbody>\n",
       "\t<tr><td>C50      </td><td>0.4917606</td></tr>\n",
       "\t<tr><td>NB       </td><td>0.4397225</td></tr>\n",
       "\t<tr><td>OR       </td><td>0.1951431</td></tr>\n",
       "\t<tr><td>RF       </td><td>0.5099740</td></tr>\n",
       "</tbody>\n",
       "</table>\n"
      ],
      "text/latex": [
       "\\begin{tabular}{r|ll}\n",
       " modelo & sen\\\\\n",
       "\\hline\n",
       "\t C50       & 0.4917606\\\\\n",
       "\t NB        & 0.4397225\\\\\n",
       "\t OR        & 0.1951431\\\\\n",
       "\t RF        & 0.5099740\\\\\n",
       "\\end{tabular}\n"
      ],
      "text/markdown": [
       "\n",
       "modelo | sen | \n",
       "|---|---|---|---|\n",
       "| C50       | 0.4917606 | \n",
       "| NB        | 0.4397225 | \n",
       "| OR        | 0.1951431 | \n",
       "| RF        | 0.5099740 | \n",
       "\n",
       "\n"
      ],
      "text/plain": [
       "  modelo sen      \n",
       "1 C50    0.4917606\n",
       "2 NB     0.4397225\n",
       "3 OR     0.1951431\n",
       "4 RF     0.5099740"
      ]
     },
     "metadata": {},
     "output_type": "display_data"
    }
   ],
   "source": [
    "###SE CALCULA LA SENSIBILIDAD PARA LOS MODELOS\n",
    "###C50\n",
    "sen1 <-sensitivity(ytestpred,ytest,positive = \"yes\")\n",
    "\n",
    "###Naive Bayes\n",
    "sen2 <- sensitivity(ytestpred1,ytest,positive = \"yes\")\n",
    "\n",
    "###OneR\n",
    "sen3<-sensitivity(ytestpred2,ytest,positive = \"yes\")\n",
    "\n",
    "###Random Forest\n",
    "sen4<-sensitivity(ytestpred4,ytest,positive = \"yes\")\n",
    "\n",
    "sen<-c(sen1,sen2,sen3,sen4)\n",
    "modelo<-c(\"C50\",\"NB\",\"OR\",\"RF\")\n",
    "df<-data.frame(modelo,sen)\n",
    "df"
   ]
  },
  {
   "cell_type": "markdown",
   "metadata": {},
   "source": [
    "La senesibilidad o tasa verdadera positiva que mide la proporción de casos positivos que fueron correctamente clasificados es más alta en el modelo realizado con la metodología OneR."
   ]
  },
  {
   "cell_type": "code",
   "execution_count": 42,
   "metadata": {},
   "outputs": [
    {
     "data": {
      "text/html": [
       "<table>\n",
       "<thead><tr><th scope=col>modelo</th><th scope=col>spe</th></tr></thead>\n",
       "<tbody>\n",
       "\t<tr><td>C50      </td><td>0.9578959</td></tr>\n",
       "\t<tr><td>NB       </td><td>0.9421479</td></tr>\n",
       "\t<tr><td>OR       </td><td>0.9853456</td></tr>\n",
       "\t<tr><td>RF       </td><td>0.9610674</td></tr>\n",
       "</tbody>\n",
       "</table>\n"
      ],
      "text/latex": [
       "\\begin{tabular}{r|ll}\n",
       " modelo & spe\\\\\n",
       "\\hline\n",
       "\t C50       & 0.9578959\\\\\n",
       "\t NB        & 0.9421479\\\\\n",
       "\t OR        & 0.9853456\\\\\n",
       "\t RF        & 0.9610674\\\\\n",
       "\\end{tabular}\n"
      ],
      "text/markdown": [
       "\n",
       "modelo | spe | \n",
       "|---|---|---|---|\n",
       "| C50       | 0.9578959 | \n",
       "| NB        | 0.9421479 | \n",
       "| OR        | 0.9853456 | \n",
       "| RF        | 0.9610674 | \n",
       "\n",
       "\n"
      ],
      "text/plain": [
       "  modelo spe      \n",
       "1 C50    0.9578959\n",
       "2 NB     0.9421479\n",
       "3 OR     0.9853456\n",
       "4 RF     0.9610674"
      ]
     },
     "metadata": {},
     "output_type": "display_data"
    }
   ],
   "source": [
    "###SE CALCULA LA ESPECIFICIDAD PARA LOS MODELOS\n",
    "###C50\n",
    "spe1 <-specificity(ytestpred,ytest,negative = \"no\")\n",
    "\n",
    "###Naive Bayes\n",
    "spe2 <- specificity(ytestpred1,ytest,negative = \"no\")\n",
    "\n",
    "###OneR\n",
    "spe3<-specificity(ytestpred2,ytest,negative = \"no\")\n",
    "\n",
    "###Random Forest\n",
    "spe4<-specificity(ytestpred4,ytest,negative = \"no\")\n",
    "\n",
    "spe<-c(spe1,spe2,spe3,spe4)\n",
    "modelo<-c(\"C50\",\"NB\",\"OR\",\"RF\")\n",
    "df<-data.frame(modelo,spe)\n",
    "df"
   ]
  },
  {
   "cell_type": "markdown",
   "metadata": {},
   "source": [
    "Para el caso de la especificidad que mide los falsos positivos, esta aumenta a medida que la sensibilidad disminuye, por lo tanto se puede asumir que nuevamente el modelo realizado con la metodología OneR es el que mejor resultado tiene y el realizado con Naive Bayes es que el que peor resultado registra. EL segundo modelo con mejor resultado es Random Forest."
   ]
  },
  {
   "cell_type": "code",
   "execution_count": 43,
   "metadata": {},
   "outputs": [
    {
     "data": {
      "text/html": [
       "<table>\n",
       "<thead><tr><th scope=col>modelo</th><th scope=col>ce</th></tr></thead>\n",
       "<tbody>\n",
       "\t<tr><td>C50       </td><td>0.09429931</td></tr>\n",
       "\t<tr><td>NB        </td><td>0.11411091</td></tr>\n",
       "\t<tr><td>OR        </td><td>0.10313684</td></tr>\n",
       "\t<tr><td>RF        </td><td>0.08944353</td></tr>\n",
       "</tbody>\n",
       "</table>\n"
      ],
      "text/latex": [
       "\\begin{tabular}{r|ll}\n",
       " modelo & ce\\\\\n",
       "\\hline\n",
       "\t C50        & 0.09429931\\\\\n",
       "\t NB         & 0.11411091\\\\\n",
       "\t OR         & 0.10313684\\\\\n",
       "\t RF         & 0.08944353\\\\\n",
       "\\end{tabular}\n"
      ],
      "text/markdown": [
       "\n",
       "modelo | ce | \n",
       "|---|---|---|---|\n",
       "| C50        | 0.09429931 | \n",
       "| NB         | 0.11411091 | \n",
       "| OR         | 0.10313684 | \n",
       "| RF         | 0.08944353 | \n",
       "\n",
       "\n"
      ],
      "text/plain": [
       "  modelo ce        \n",
       "1 C50    0.09429931\n",
       "2 NB     0.11411091\n",
       "3 OR     0.10313684\n",
       "4 RF     0.08944353"
      ]
     },
     "metadata": {},
     "output_type": "display_data"
    }
   ],
   "source": [
    "#### SE CALCULA EL ERROR DE LASIFICACIÓN PARA LOS MODELOS\n",
    "###C50\n",
    "ce1 <-ce(ytest,ytestpred)\n",
    "\n",
    "###Naive Bayes\n",
    "ce2 <- ce(ytest,ytestpred1)\n",
    "\n",
    "###OneR\n",
    "ce3<-ce(ytest,ytestpred2)\n",
    "\n",
    "###Random Forest\n",
    "ce4<-ce(ytest,ytestpred4)\n",
    "\n",
    "ce<-c(ce1,ce2,ce3,ce4)\n",
    "modelo<-c(\"C50\",\"NB\",\"OR\",\"RF\")\n",
    "df<-data.frame(modelo,ce)\n",
    "df"
   ]
  },
  {
   "cell_type": "markdown",
   "metadata": {},
   "source": [
    "El error de clasificaición mide la proporción de elementos que no corresponden al mismo valor en la predicción del modelo, por lo tanto entre menor sea esta medida mejor será el modelo, por lo tanto el modelo Random Forest tiene una mejor predicción."
   ]
  },
  {
   "cell_type": "markdown",
   "metadata": {},
   "source": [
    "CONCLUSIÓN\n",
    "--"
   ]
  },
  {
   "cell_type": "markdown",
   "metadata": {},
   "source": [
    "De acuerdo a las medidas anteriores se puede concluir que el mejor modelo es el realizado con la metodología de Random Forest por obtener los mejores resultados en Accuracy y el error de clasificación y por tener el segundo mejor puntaje en especificidad. \n",
    "\n",
    "Se concluye entonces que con este modelo se puede predecir cuales clientes van a adquirir un deposito a termino con una precisión del 91%."
   ]
  }
 ],
 "metadata": {
  "kernelspec": {
   "display_name": "R",
   "language": "R",
   "name": "ir"
  },
  "language_info": {
   "codemirror_mode": "r",
   "file_extension": ".r",
   "mimetype": "text/x-r-source",
   "name": "R",
   "pygments_lexer": "r",
   "version": "3.4.3"
  }
 },
 "nbformat": 4,
 "nbformat_minor": 2
}
